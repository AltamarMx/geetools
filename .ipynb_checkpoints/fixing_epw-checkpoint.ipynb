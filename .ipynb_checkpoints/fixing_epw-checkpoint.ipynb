{
 "cells": [
  {
   "cell_type": "code",
   "execution_count": 1,
   "id": "e1ccf1f3",
   "metadata": {},
   "outputs": [],
   "source": [
    "import pandas as pd\n",
    "import matplotlib.pyplot as plt\n",
    "# from iertools.read import read_epw\n",
    "from dateutil.parser import parse"
   ]
  },
  {
   "cell_type": "code",
   "execution_count": 32,
   "id": "f9f4c8de",
   "metadata": {},
   "outputs": [],
   "source": [
    "# %load iertools/read.py\n",
    "# %load ../iertools/read.py\n",
    "import sqlite3 as sql\n",
    "import pandas as pd\n",
    "import matplotlib.pyplot as plt\n",
    "import warnings\n",
    "\n",
    "def read_epw(file,year=None,alias=False):\n",
    "    \"\"\"\n",
    "    Read EPW file \n",
    "    \n",
    "    Arguments:\n",
    "    ----------\n",
    "    file -- path location of EPW file\n",
    "    year -- None default to leave intact the year or change if desired. It raises a warning.\n",
    "    alias -- False default, True to change to To, Ig, Ib, Ws, RH, ...\n",
    "    \n",
    "    \"\"\"\n",
    "  \n",
    "    names = ['Year',\n",
    "               'Month',\n",
    "               'Day',\n",
    "               'Hour',\n",
    "               'Minute',\n",
    "               'Data Source and Uncertainty Flags',\n",
    "               'Dry Bulb Temperature',\n",
    "               'Dew Point Temperature',\n",
    "               'Relative Humidity',\n",
    "               'Atmospheric Station Pressure',\n",
    "               'Extraterrestrial Horizontal Radiation',\n",
    "               'Extraterrestrial Direct Normal Radiation',\n",
    "               'Horizontal Infrared Radiation Intensity',\n",
    "               'Global Horizontal Radiation',\n",
    "               'Direct Normal Radiation',\n",
    "               'Diffuse Horizontal Radiation',\n",
    "               'Global Horizontal Illuminance',\n",
    "               'Direct Normal Illuminance',\n",
    "               'Diffuse Horizontal Illuminance',\n",
    "               'Zenith Luminance',\n",
    "               'Wind Direction',\n",
    "               'Wind Speed',\n",
    "               'Total Sky Cover',\n",
    "               'Opaque Sky Cover',\n",
    "               'Visibility',\n",
    "               'Ceiling Height',\n",
    "               'Present Weather Observation',\n",
    "               'Present Weather Codes','Precipitable Water','Aerosol Optical Depth','Snow Depth','Days Since Last Snowfall',\n",
    "               'Albedo','Liquid Precipitation Depth','Liquid Precipitation Quantity']\n",
    "    \n",
    "    rename = {'Dry Bulb Temperature'        :'To',\n",
    "              'Relative Humidity'           :'RH',\n",
    "              'Atmospheric Station Pressure':'P' ,\n",
    "              'Global Horizontal Radiation' :'Ig',\n",
    "              'Direct Normal Radiation'     :'Ib',\n",
    "              'Diffuse Horizontal Radiation':'Id',\n",
    "              'Wind Direction'              :'Wd',\n",
    "              'Wind Speed'                  :'Ws'}\n",
    "    data = pd.read_csv(file,skiprows=8,header=None,names=names,usecols=range(35))\n",
    "#     data.Minute = 0\n",
    "#     data.loc[data.Hour==24,['Hour','Minute']] = [23,59]\n",
    "    data.Hour = data.Hour -1\n",
    "    if year != None:\n",
    "        data.Year = year\n",
    "        warnings.warn(\"Year has been changed, be carefull\")\n",
    "    try:\n",
    "        data['tiempo'] = data.Year.astype('str') + '-' + data.Month.astype('str')  + '-' + data.Day.astype('str') + ' ' + data.Hour.astype('str') + ':' + data.Minute.astype('str') \n",
    "        data.tiempo = pd.to_datetime(data.tiempo,format='%Y-%m-%d %H:%M')\n",
    "    except:\n",
    "        data.Minute = 0\n",
    "        data['tiempo'] = data.Year.astype('str') + '-' + data.Month.astype('str')  + '-' + data.Day.astype('str') + ' ' + data.Hour.astype('str') + ':' + data.Minute.astype('str') \n",
    "        data.tiempo = pd.to_datetime(data.tiempo,format='%Y-%m-%d %H:%M')\n",
    "        \n",
    "    data.set_index('tiempo',inplace=True)\n",
    "    del data['Year']\n",
    "    del data['Month']\n",
    "    del data['Day']\n",
    "    del data['Hour']\n",
    "    del data['Minute']\n",
    "    if alias:\n",
    "        data.rename(columns=rename,inplace=True)\n",
    "    return data\n",
    "\n",
    "\n"
   ]
  },
  {
   "cell_type": "code",
   "execution_count": 36,
   "id": "af7082dd",
   "metadata": {},
   "outputs": [
    {
     "name": "stderr",
     "output_type": "stream",
     "text": [
      "C:\\Users\\gbv\\AppData\\Local\\Temp\\ipykernel_8536\\623870853.py:64: UserWarning: Year has been changed, be carefull\n",
      "  warnings.warn(\"Year has been changed, be carefull\")\n"
     ]
    }
   ],
   "source": [
    "# epw = read_epw(\"../epw_1_semana/epw/Tmx_marzoCST.epw\",alias=True)\n",
    "epw = read_epw(\"data/Casablanca.epw\",alias=True,year=2018)\n"
   ]
  },
  {
   "cell_type": "code",
   "execution_count": 37,
   "id": "5181a470",
   "metadata": {},
   "outputs": [
    {
     "data": {
      "text/plain": [
       "<matplotlib.legend.Legend at 0x2630872d1b0>"
      ]
     },
     "execution_count": 37,
     "metadata": {},
     "output_type": "execute_result"
    },
    {
     "data": {
      "image/png": "[encoded data removed]",
      "text/plain": [
       "<Figure size 1000x300 with 1 Axes>"
      ]
     },
     "metadata": {},
     "output_type": "display_data"
    }
   ],
   "source": [
    "fig, ax = plt.subplots(figsize=(10,3))\n",
    "f1 = parse(\"2018-03-10\")\n",
    "f2 = f1 + pd.Timedelta(\"1d\")\n",
    "\n",
    "# ax.plot(csv.To,\"ko\",label=\"To_csv\")\n",
    "ax.plot(epw.To,\"r.\",label=\"To_epw\")\n",
    "\n",
    "ax.set_xlim(f1,f2)\n",
    "ax.legend()"
   ]
  },
  {
   "cell_type": "code",
   "execution_count": null,
   "id": "559c9027",
   "metadata": {},
   "outputs": [],
   "source": []
  }
 ],
 "metadata": {
  "kernelspec": {
   "display_name": "Python 3 (ipykernel)",
   "language": "python",
   "name": "python3"
  },
  "language_info": {
   "codemirror_mode": {
    "name": "ipython",
    "version": 3
   },
   "file_extension": ".py",
   "mimetype": "text/x-python",
   "name": "python",
   "nbconvert_exporter": "python",
   "pygments_lexer": "ipython3",
   "version": "3.10.9"
  }
 },
 "nbformat": 4,
 "nbformat_minor": 5
}
