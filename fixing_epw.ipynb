{
 "cells": [
  {
   "cell_type": "code",
   "execution_count": null,
   "id": "e1ccf1f3",
   "metadata": {},
   "outputs": [],
   "source": [
    "import pandas as pd\n",
    "import matplotlib.pyplot as plt\n",
    "# from iert'ools.read import read_epw\n",
    "from dateutil.parser import parse"
   ]
  },
  {
   "cell_type": "code",
   "execution_count": null,
   "id": "f9f4c8de",
   "metadata": {},
   "outputs": [],
   "source": [
    "# %load iertools/read.py\n",
    "# %load ../iertools/read.py"
   ]
  },
  {
   "cell_type": "code",
   "execution_count": null,
   "id": "af7082dd",
   "metadata": {},
   "outputs": [],
   "source": [
    "# epw = read_epw(\"../epw_1_semana/epw/Tmx_marzoCST.epw\",alias=True)\n",
    "epw = read_epw(\"data/Casablanca.epw\",alias=True,year=2018)\n"
   ]
  },
  {
   "cell_type": "code",
   "execution_count": null,
   "id": "5181a470",
   "metadata": {},
   "outputs": [],
   "source": [
    "fig, ax = plt.subplots(figsize=(10,3))\n",
    "f1 = parse(\"2018-03-10\")\n",
    "f2 = f1 + pd.Timedelta(\"1d\")\n",
    "\n",
    "# ax.plot(csv.To,\"ko\",label=\"To_csv\")\n",
    "ax.plot(epw.To,\"r.\",label=\"To_epw\")\n",
    "\n",
    "ax.set_xlim(f1,f2)\n",
    "ax.legend()"
   ]
  },
  {
   "cell_type": "code",
   "execution_count": null,
   "id": "559c9027",
   "metadata": {},
   "outputs": [],
   "source": [
    "ñññññññññññññññññññññññ"
   ]
  }
 ],
 "metadata": {
  "kernelspec": {
   "display_name": "Python 3 (ipykernel)",
   "language": "python",
   "name": "python3"
  },
  "language_info": {
   "codemirror_mode": {
    "name": "ipython",
    "version": 3
   },
   "file_extension": ".py",
   "mimetype": "text/x-python",
   "name": "python",
   "nbconvert_exporter": "python",
   "pygments_lexer": "ipython3",
   "version": "3.11.4"
  }
 },
 "nbformat": 4,
 "nbformat_minor": 5
}
