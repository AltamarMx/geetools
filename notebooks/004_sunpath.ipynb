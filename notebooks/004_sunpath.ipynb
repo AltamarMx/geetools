{
 "cells": [
  {
   "cell_type": "code",
   "execution_count": 7,
   "metadata": {},
   "outputs": [],
   "source": [
    "# pip install git+https://github.com/AltamarMx/iertools.git"
   ]
  },
  {
   "cell_type": "code",
   "execution_count": 4,
   "metadata": {},
   "outputs": [],
   "source": [
    "from geetools.sunpath import sunpath"
   ]
  },
  {
   "cell_type": "code",
   "execution_count": 6,
   "metadata": {},
   "outputs": [
    {
     "data": {
      "application/vnd.jupyter.widget-view+json": {
       "model_id": "2d6a4e97e430429097732ca09243f021",
       "version_major": 2,
       "version_minor": 0
      },
      "text/plain": [
       "interactive(children=(FloatSlider(value=44.5, description='phi', max=89.0, min=0.5, step=0.5), IntSlider(value…"
      ]
     },
     "metadata": {},
     "output_type": "display_data"
    }
   ],
   "source": [
    "sunpath()"
   ]
  },
  {
   "cell_type": "code",
   "execution_count": 10,
   "metadata": {},
   "outputs": [],
   "source": [
    "def sunpaths():\n",
    "    import numpy as np\n",
    "    import pandas as pd\n",
    "    import matplotlib.pyplot as plt\n",
    "    import datetime\n",
    "    from ipywidgets import widgets,interact\n",
    "    def angulo(phi,day,hour):\n",
    "        np.seterr(invalid='ignore')\n",
    "        days  = np.arange(1, 365/2+1,21)\n",
    "        rad = np.pi/180.; deg = 180./np.pi; contador =  0 \n",
    "        r = [] \n",
    "        angulo = []\n",
    "        etiqueta = []\n",
    "        for d in days:\n",
    "            delta = 23.5*np.sin( (360*(284+d)/365)*rad )\n",
    "            ortho = deg*np.arccos (-1.*np.tan(rad*phi)*np.tan(rad*delta))\n",
    "            r.append([])\n",
    "            angulo.append([])\n",
    "            fecha = datetime.datetime.strptime(str(int(d)), '%j').date()\n",
    "            etiqueta.append(fecha.strftime('%d %B'))\n",
    "            for h in np.arange(0,24 + .4 ,.4):\n",
    "                omega = (h - 12.)*15.\n",
    "                thetaz = np.arccos(np.cos(phi*rad)*np.cos(delta*rad)*np.cos(omega*rad) + np.sin(phi*rad)*np.sin(delta*rad))*deg\n",
    "                gammas_d = np.arcsin(np.sin(omega*rad)*np.cos(delta*rad)/np.sin(thetaz*rad))*deg\n",
    "                omega_ew = np.arccos(np.tan(delta*rad)/np.tan(phi*rad))*deg\n",
    "                if (np.abs(omega)<omega_ew): C1 =  1.;\n",
    "                else:  C1 = -1.;\n",
    "                if (phi*(phi-delta) >= 0.): C2 =  1.;\n",
    "                else: C2 = -1.;\n",
    "                if (omega>=0.): C3 =  1.;\n",
    "                else: C3 = -1.;\n",
    "                if (np.abs(np.tan(delta*rad)/np.tan(phi*rad)) > 1. ): C1 =  1.;\n",
    "                gamma_s = C1 * C2 *  gammas_d  + C3 *(1. - C1*C2 )*180./2.\n",
    "                alpha_s = 90.-thetaz\n",
    "                r[contador].append( np.sin((45.-alpha_s/2.)*rad)/np.sin((135.-alpha_s/2.)*rad)*90 )   \n",
    "                if (phi >= 0.):  angulo[contador].append(1.*(gamma_s-90))\n",
    "                else: angulo[contador].append(1.*(gamma_s-90.)+180)\n",
    "            contador = contador + 1            \n",
    "        angulo = np.array(angulo)\n",
    "        r = np.array(r)\n",
    "        #CALCULO PARA LA L'INEA DE 1 D'IA\n",
    "        r_day = []\n",
    "        angulo_day = []\n",
    "        delta = 23.5*np.sin( (360*(284+day)/365)*rad )\n",
    "        ortho = deg*np.arccos (-1.*np.tan(rad*phi)*np.tan(rad*delta))\n",
    "        for h in np.arange(0,24 + .4 ,.4):\n",
    "            omega = (h - 12.)*15.\n",
    "            thetaz = np.arccos(np.cos(phi*rad)*np.cos(delta*rad)*np.cos(omega*rad) \n",
    "                               + np.sin(phi*rad)*np.sin(delta*rad))*deg\n",
    "            gammas_d = np.arcsin(np.sin(omega*rad)*np.cos(delta*rad)/np.sin(thetaz*rad))*deg\n",
    "            omega_ew = np.arccos(np.tan(delta*rad)/np.tan(phi*rad))*deg\n",
    "            if (np.abs(omega)<omega_ew): C1 =  1.;\n",
    "            else:  C1 = -1.;\n",
    "            if (phi*(phi-delta) >= 0.): C2 =  1.;\n",
    "            else: C2 = -1.;\n",
    "            if (omega>=0.): C3 =  1.;\n",
    "            else: C3 = -1.;\n",
    "            if (np.abs(np.tan(delta*rad)/np.tan(phi*rad)) > 1. ): C1 =  1.;\n",
    "            gamma_s = C1 * C2 *  gammas_d  + C3 *(1. - C1*C2 )*180./2.\n",
    "            alpha_s = 90.-thetaz\n",
    "            r_day.append( np.sin((45.-alpha_s/2.)*rad)/np.sin((135.-alpha_s/2.)*rad)*90 )   \n",
    "            if (phi >= 0.):  angulo_day.append(1.*(gamma_s-90))\n",
    "            else: angulo_day.append(1.*(gamma_s-90.)+180)          \n",
    "        angulo_day = np.array(angulo_day) \n",
    "        r_day = np.array(r_day) \n",
    "        #CALCULO PARA  1 PUNTO\n",
    "        r_hour = []\n",
    "        angulo_hour = []\n",
    "        ortho = deg*np.arccos (-1.*np.tan(rad*phi)*np.tan(rad*delta))\n",
    "        B = (day-1)* 360/365 *rad\n",
    "        E = 229.2*(0.000075 + 0.001868 * np.cos(B) - 0.032077*np.sin(B)\n",
    "                   - 0.014615*np.cos(2*B) - 0.04089*np.sin(2*B))\n",
    "        omega = (hour-E/60 - 12.)*15.\n",
    "        thetaz = np.arccos(np.cos(phi*rad)*np.cos(delta*rad)*np.cos(omega*rad) \n",
    "                           + np.sin(phi*rad)*np.sin(delta*rad))*deg\n",
    "        gammas_d = np.arcsin(np.sin(omega*rad)*np.cos(delta*rad)/np.sin(thetaz*rad))*deg\n",
    "        omega_ew = np.arccos(np.tan(delta*rad)/np.tan(phi*rad))*deg\n",
    "        if (np.abs(omega)<omega_ew): C1 =  1.;\n",
    "        else:  C1 = -1.;\n",
    "        if (phi*(phi-delta) >= 0.): C2 =  1.;\n",
    "        else: C2 = -1.;\n",
    "        if (omega>=0.): C3 =  1.;\n",
    "        else: C3 = -1.;\n",
    "        if (np.abs(np.tan(delta*rad)/np.tan(phi*rad)) > 1. ): C1 =  1.;\n",
    "        gamma_s = C1 * C2 *  gammas_d  + C3 *(1. - C1*C2 )*180./2.\n",
    "        alpha_s = 90.-thetaz\n",
    "        r_hour.append( np.sin((45.-alpha_s/2.)*rad)/np.sin((135.-alpha_s/2.)*rad)*90 )   \n",
    "        if (phi >= 0.):  angulo_hour.append(1.*(gamma_s-90))\n",
    "        else: angulo_hour.append(1.*(gamma_s-90.)+180)          \n",
    "        angulo_hour = np.array(angulo_hour) \n",
    "        r_hour = np.array(r_hour) \n",
    "    #COMIENZA EL CALCULO DE LAS ANALEMAS\n",
    "        days_analema = np.arange(1,365,1)\n",
    "        angulo_horario = []\n",
    "        r_horario = []\n",
    "        contador_r =  0 \n",
    "        for h in np.arange(0,24+1,1):\n",
    "            r_horario.append([])\n",
    "            angulo_horario.append([])\n",
    "            for d in days_analema:\n",
    "                delta = 23.5*np.sin( (360*(284+d)/365)*rad )  \n",
    "                B = (d-1)* 360/365 *rad\n",
    "                E = 229.2*(0.000075 + 0.001868 * np.cos(B) - 0.032077*np.sin(B)\n",
    "                 - 0.014615*np.cos(2*B) - 0.04089*np.sin(2*B))\n",
    "                omega = (h -E/60 - 12.)*15.\n",
    "                thetaz = np.arccos(np.cos(phi*rad)*np.cos(delta*rad)*np.cos(omega*rad) + np.sin(phi*rad)*np.sin(delta*rad))*deg\n",
    "                gammas_d = np.arcsin(np.sin(omega*rad)*np.cos(delta*rad)/np.sin(thetaz*rad))*deg\n",
    "                omega_ew = np.arccos(np.tan(delta*rad)/np.tan(phi*rad))*deg        \n",
    "                if (np.abs(omega)<omega_ew): C1 =  1.;\n",
    "                else:  C1 = -1.;\n",
    "                if (phi*(phi-delta) >= 0.): C2 =  1.;\n",
    "                else: C2 = -1.;\n",
    "                if (omega>=0.): C3 =  1.;\n",
    "                else: C3 = -1.;\n",
    "                if (np.abs(np.tan(delta*rad)/np.tan(phi*rad)) > 1. ): C1 =  1.;    \n",
    "                gamma_s = C1 * C2 *  gammas_d  + C3 *(1. - C1*C2 )*180./2.\n",
    "                alpha_s = 90.-thetaz\n",
    "                r_horario[contador_r].append( np.sin((45.-alpha_s/2.)*rad)/np.sin((135.-alpha_s/2.)*rad)*90 )\n",
    "                if (phi >= 0.):  angulo_horario[contador_r].append(1.*(gamma_s-90))\n",
    "                else: angulo_horario[contador_r].append(1.*(gamma_s-90.)+180)\n",
    "            contador_r = contador_r + 1\n",
    "        angulo_horario = np.array(angulo_horario) \n",
    "        r_horario = np.array(r_horario) \n",
    "        rad = np.pi/180.; deg = 180./np.pi; contador =  0\n",
    "#         plt.xkcd()\n",
    "        plt.figure(figsize=(10,10))\n",
    "        ax = plt.subplot(111, projection='polar')\n",
    "    #     print(ax.annotate.__doc__)\n",
    "        for d in range(len(angulo)):\n",
    "            ax.plot(angulo[d]*rad,r[d],color='gray',linewidth=2)\n",
    "            ax.annotate(etiqueta[d],xy=(0,0),xytext=(d*rad*9-30*rad,92),xycoords='data') \n",
    "        for a in range(len(r_horario)):\n",
    "            ax.plot(angulo_horario[a]*rad,r_horario[a],color='red',linewidth=1)\n",
    "        ax.plot(angulo_day*rad,r_day,color='green',linewidth=3)\n",
    "        ax.scatter(angulo_hour*rad,r_hour,color='red',s=250)\n",
    "        ax.set_rlabel_position(90) \n",
    "        ax.set_rticks(range(0,90,10))\n",
    "        ax.grid(color = 'gray', linestyle = 'dotted', linewidth = 1 )\n",
    "        ax.set_rmax(90)\n",
    "        ax.set_rmin(0)\n",
    "        plt.grid()\n",
    "    #     plt.title('Stereographic sun path diagram',)\n",
    "        plt.show()\n",
    "#         plt.savefig('stereograph.png')\n",
    "#     print(etiqueta)\n",
    "    \n",
    "    interact(angulo,phi = (.5,89.,.5),day=(1,365,10),hour=(0,24,1))\n",
    "#     angulo(18.5,1,0)\n",
    "    return "
   ]
  },
  {
   "cell_type": "code",
   "execution_count": 11,
   "metadata": {},
   "outputs": [
    {
     "data": {
      "application/vnd.jupyter.widget-view+json": {
       "model_id": "f8d01094a15d4449b17f2ff889c77293",
       "version_major": 2,
       "version_minor": 0
      },
      "text/plain": [
       "interactive(children=(FloatSlider(value=44.5, description='phi', max=89.0, min=0.5, step=0.5), IntSlider(value…"
      ]
     },
     "metadata": {},
     "output_type": "display_data"
    }
   ],
   "source": [
    "sunpaths()"
   ]
  },
  {
   "cell_type": "code",
   "execution_count": null,
   "metadata": {},
   "outputs": [],
   "source": []
  }
 ],
 "metadata": {
  "kernelspec": {
   "display_name": "Python 3",
   "language": "python",
   "name": "python3"
  },
  "language_info": {
   "codemirror_mode": {
    "name": "ipython",
    "version": 3
   },
   "file_extension": ".py",
   "mimetype": "text/x-python",
   "name": "python",
   "nbconvert_exporter": "python",
   "pygments_lexer": "ipython3",
   "version": "3.8.5"
  }
 },
 "nbformat": 4,
 "nbformat_minor": 4
}
