{
 "cells": [
  {
   "cell_type": "code",
   "execution_count": 3,
   "metadata": {},
   "outputs": [
    {
     "name": "stdout",
     "output_type": "stream",
     "text": [
      "\u001b[33mWARNING: The directory '/Users/gbv/Library/Caches/pip' or its parent directory is not owned or is not writable by the current user. The cache has been disabled. Check the permissions and owner of that directory. If executing pip with sudo, you should use sudo's -H flag.\u001b[0m\n",
      "\u001b[33mWARNING: Ignoring invalid distribution -umpy (/usr/local/lib/python3.9/site-packages)\u001b[0m\n",
      "\u001b[33mWARNING: Ignoring invalid distribution -umpy (/usr/local/lib/python3.9/site-packages)\u001b[0m\n",
      "Collecting git+https://github.com/AltamarMx/geetools.git\n",
      "  Cloning https://github.com/AltamarMx/geetools.git to /private/var/folders/2z/fh3yv7r50rxgy804jm3f7b0c0000gn/T/pip-req-build-95zoppvk\n",
      "  Running command git clone --filter=blob:none -q https://github.com/AltamarMx/geetools.git /private/var/folders/2z/fh3yv7r50rxgy804jm3f7b0c0000gn/T/pip-req-build-95zoppvk\n",
      "  Resolved https://github.com/AltamarMx/geetools.git to commit 9ea7ec4ede4d195bfc8f772671514887649e60c5\n",
      "  Preparing metadata (setup.py) ... \u001b[?25ldone\n",
      "\u001b[?25hRequirement already satisfied: requests in /usr/local/lib/python3.9/site-packages (from geetools==0.3.0) (2.25.1)\n",
      "Requirement already satisfied: pandas in /usr/local/lib/python3.9/site-packages (from geetools==0.3.0) (1.3.5)\n",
      "Requirement already satisfied: numpy in /Users/gbv/Library/Python/3.9/lib/python/site-packages (from geetools==0.3.0) (1.19.5)\n",
      "Requirement already satisfied: datetime in /usr/local/lib/python3.9/site-packages (from geetools==0.3.0) (4.4)\n",
      "Requirement already satisfied: zope.interface in /usr/local/lib/python3.9/site-packages (from datetime->geetools==0.3.0) (5.4.0)\n",
      "Requirement already satisfied: pytz in /usr/local/lib/python3.9/site-packages (from datetime->geetools==0.3.0) (2021.1)\n",
      "Requirement already satisfied: python-dateutil>=2.7.3 in /usr/local/lib/python3.9/site-packages (from pandas->geetools==0.3.0) (2.8.1)\n",
      "Requirement already satisfied: urllib3<1.27,>=1.21.1 in /usr/local/lib/python3.9/site-packages (from requests->geetools==0.3.0) (1.26.3)\n",
      "Requirement already satisfied: chardet<5,>=3.0.2 in /usr/local/lib/python3.9/site-packages (from requests->geetools==0.3.0) (4.0.0)\n",
      "Requirement already satisfied: certifi>=2017.4.17 in /usr/local/lib/python3.9/site-packages (from requests->geetools==0.3.0) (2020.12.5)\n",
      "Requirement already satisfied: idna<3,>=2.5 in /usr/local/lib/python3.9/site-packages (from requests->geetools==0.3.0) (2.10)\n",
      "Requirement already satisfied: six>=1.5 in /usr/local/lib/python3.9/site-packages (from python-dateutil>=2.7.3->pandas->geetools==0.3.0) (1.15.0)\n",
      "Requirement already satisfied: setuptools in /usr/local/lib/python3.9/site-packages (from zope.interface->datetime->geetools==0.3.0) (57.4.0)\n",
      "Building wheels for collected packages: geetools\n",
      "  Building wheel for geetools (setup.py) ... \u001b[?25ldone\n",
      "\u001b[?25h  Created wheel for geetools: filename=geetools-0.3.0-py3-none-any.whl size=8367 sha256=826f5b27eeb019f0cbd42068d511dde04d5fc0ff7fad6ad4d19681c7bae693d7\n",
      "  Stored in directory: /private/var/folders/2z/fh3yv7r50rxgy804jm3f7b0c0000gn/T/pip-ephem-wheel-cache-xwc0u04c/wheels/9f/84/df/7b644bed5bfd7789ffd71404af255b394b58002ee785253409\n",
      "Successfully built geetools\n",
      "\u001b[33mWARNING: Ignoring invalid distribution -umpy (/usr/local/lib/python3.9/site-packages)\u001b[0m\n",
      "Installing collected packages: geetools\n",
      "  Attempting uninstall: geetools\n",
      "\u001b[33m    WARNING: Ignoring invalid distribution -umpy (/usr/local/lib/python3.9/site-packages)\u001b[0m\n",
      "    Found existing installation: geetools 0.2.0\n",
      "    Uninstalling geetools-0.2.0:\n",
      "      Successfully uninstalled geetools-0.2.0\n",
      "\u001b[33mWARNING: Ignoring invalid distribution -umpy (/usr/local/lib/python3.9/site-packages)\u001b[0m\n",
      "Successfully installed geetools-0.3.0\n",
      "\u001b[33mWARNING: Ignoring invalid distribution -umpy (/usr/local/lib/python3.9/site-packages)\u001b[0m\n",
      "\u001b[33mWARNING: Ignoring invalid distribution -umpy (/usr/local/lib/python3.9/site-packages)\u001b[0m\n",
      "\u001b[33mWARNING: Ignoring invalid distribution -umpy (/usr/local/lib/python3.9/site-packages)\u001b[0m\n",
      "\u001b[33mWARNING: You are using pip version 21.3.1; however, version 22.0.4 is available.\n",
      "You should consider upgrading via the '/usr/local/opt/python@3.9/bin/python3.9 -m pip install --upgrade pip' command.\u001b[0m\n",
      "Note: you may need to restart the kernel to use updated packages.\n"
     ]
    }
   ],
   "source": [
    "pip install git+https://github.com/AltamarMx/geetools.git"
   ]
  },
  {
   "cell_type": "code",
   "execution_count": 2,
   "metadata": {},
   "outputs": [
    {
     "ename": "ModuleNotFoundError",
     "evalue": "No module named 'geetools.sunpath'",
     "output_type": "error",
     "traceback": [
      "\u001b[0;31m---------------------------------------------------------------------------\u001b[0m",
      "\u001b[0;31mModuleNotFoundError\u001b[0m                       Traceback (most recent call last)",
      "\u001b[0;32m<ipython-input-2-5798c3f3bce6>\u001b[0m in \u001b[0;36m<module>\u001b[0;34m\u001b[0m\n\u001b[0;32m----> 1\u001b[0;31m \u001b[0;32mfrom\u001b[0m \u001b[0mgeetools\u001b[0m\u001b[0;34m.\u001b[0m\u001b[0msunpath\u001b[0m \u001b[0;32mimport\u001b[0m \u001b[0;34m*\u001b[0m\u001b[0;34m\u001b[0m\u001b[0;34m\u001b[0m\u001b[0m\n\u001b[0m",
      "\u001b[0;31mModuleNotFoundError\u001b[0m: No module named 'geetools.sunpath'"
     ]
    }
   ],
   "source": [
    "from geetools.sunpath import "
   ]
  },
  {
   "cell_type": "code",
   "execution_count": null,
   "metadata": {},
   "outputs": [],
   "source": [
    "df = read_sql(\"../data/eplusout.sql\").data\n",
    "# df = read_eplusql(\"../data/clase06.sql\",read='all')\n",
    "\n",
    "# df = read_eplusql(\"../data/eplusoutTo.sql\",read='construction') # reads only construction systems\n",
    "# df = read_eplusql(\"../data/eplusoutTo.sql\",read='data',rename_ZMAT=True) # reads only data"
   ]
  },
  {
   "cell_type": "code",
   "execution_count": null,
   "metadata": {},
   "outputs": [],
   "source": [
    "df.columns"
   ]
  },
  {
   "cell_type": "code",
   "execution_count": null,
   "metadata": {},
   "outputs": [],
   "source": [
    "json_rvi = read_sql.json_from_rvi(\"../data/eplusout.rvi\")#by default reads everything and rename Ti,To\n",
    "my_sql = read_sql(\"../data/eplusout.sql\", cols_json=json_rvi)\n",
    "df = my_sql.data\n",
    "# df = read_eplusql(\"../data/clase06.sql\",read='all')\n",
    "\n",
    "# df = read_eplusql(\"../data/eplusoutTo.sql\",read='construction') # reads only construction systems\n",
    "# df = read_eplusql(\"../data/eplusoutTo.sql\",read='data',rename_ZMAT=True) # reads only data"
   ]
  },
  {
   "cell_type": "code",
   "execution_count": null,
   "metadata": {},
   "outputs": [],
   "source": [
    "df.columns"
   ]
  },
  {
   "cell_type": "code",
   "execution_count": null,
   "metadata": {},
   "outputs": [],
   "source": [
    "my_sql.vars_numbered"
   ]
  },
  {
   "cell_type": "code",
   "execution_count": null,
   "metadata": {
    "scrolled": true
   },
   "outputs": [],
   "source": [
    "my_sql.rename_cols([8],[\"Tii_N1AU403\"])\n",
    "my_sql.vars_numbered"
   ]
  },
  {
   "cell_type": "code",
   "execution_count": null,
   "metadata": {
    "scrolled": true
   },
   "outputs": [],
   "source": [
    "my_sql.vars"
   ]
  },
  {
   "cell_type": "code",
   "execution_count": null,
   "metadata": {},
   "outputs": [],
   "source": [
    "cs = my_sql.construction_systems\n",
    "cs"
   ]
  },
  {
   "cell_type": "code",
   "execution_count": null,
   "metadata": {
    "scrolled": false
   },
   "outputs": [],
   "source": [
    "my_sql.get_construction(cs)"
   ]
  },
  {
   "cell_type": "code",
   "execution_count": null,
   "metadata": {
    "scrolled": false
   },
   "outputs": [],
   "source": [
    "my_sql.get_construction(['PS-05']) # items should be passed as lists"
   ]
  },
  {
   "cell_type": "code",
   "execution_count": null,
   "metadata": {},
   "outputs": [],
   "source": [
    "variables = ['To',\"Ti\"]\n",
    "caso1 = my_sql.get_data(variables)\n",
    "caso1.plot(subplots=True,figsize=(12,12));"
   ]
  }
 ],
 "metadata": {
  "kernelspec": {
   "display_name": "Python 3",
   "language": "python",
   "name": "python3"
  },
  "language_info": {
   "codemirror_mode": {
    "name": "ipython",
    "version": 3
   },
   "file_extension": ".py",
   "mimetype": "text/x-python",
   "name": "python",
   "nbconvert_exporter": "python",
   "pygments_lexer": "ipython3",
   "version": "3.9.7"
  }
 },
 "nbformat": 4,
 "nbformat_minor": 4
}
