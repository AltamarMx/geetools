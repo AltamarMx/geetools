{
 "cells": [
  {
   "cell_type": "code",
   "execution_count": 1,
   "metadata": {},
   "outputs": [],
   "source": [
    "# pip install git+https://github.com/AltamarMx/iertools.git"
   ]
  },
  {
   "cell_type": "code",
   "execution_count": 3,
   "metadata": {},
   "outputs": [],
   "source": [
    "import pandas as pd\n",
    "import matplotlib.pyplot as plt\n",
    "from iertools.read import read_sql\n"
   ]
  },
  {
   "cell_type": "code",
   "execution_count": 11,
   "metadata": {},
   "outputs": [],
   "source": [
    "# df = read_sql(\"../data/eplusout.sql\")\n",
    "df = read_sql(\"../data/eplusout.sql\",read='all').data\n",
    "\n",
    "# df = read_eplusql(\"../data/eplusoutTo.sql\",read='construction') # reads only construction systems\n",
    "# df = read_eplusql(\"../data/eplusoutTo.sql\",read='data',rename_ZMAT=True) # reads only data"
   ]
  },
  {
   "cell_type": "code",
   "execution_count": 12,
   "metadata": {},
   "outputs": [
    {
     "data": {
      "text/plain": [
       "Index(['Environment:Site Outdoor Air Drybulb Temperature (C)',\n",
       "       'N1AU401:Zone Air Relative Humidity (%)',\n",
       "       'N1AU401:Zone Air Temperature (C)',\n",
       "       'N1AU401:Zone Mean Air Temperature (C)',\n",
       "       'N1AU402:Zone Air Relative Humidity (%)',\n",
       "       'N1AU402:Zone Air Temperature (C)',\n",
       "       'N1AU402:Zone Mean Air Temperature (C)',\n",
       "       'N1AU403:Zone Air Relative Humidity (%)',\n",
       "       'N1AU403:Zone Air Temperature (C)',\n",
       "       'N1AU403:Zone Mean Air Temperature (C)',\n",
       "       'N1AU404:Zone Air Relative Humidity (%)',\n",
       "       'N1AU404:Zone Air Temperature (C)',\n",
       "       'N1AU404:Zone Mean Air Temperature (C)',\n",
       "       'N2AU101:Zone Air Relative Humidity (%)',\n",
       "       'N2AU101:Zone Air Temperature (C)',\n",
       "       'N2AU101:Zone Mean Air Temperature (C)',\n",
       "       'N2AU102:Zone Air Relative Humidity (%)',\n",
       "       'N2AU102:Zone Air Temperature (C)',\n",
       "       'N2AU102:Zone Mean Air Temperature (C)',\n",
       "       'N2AU103:Zone Air Relative Humidity (%)',\n",
       "       'N2AU103:Zone Air Temperature (C)',\n",
       "       'N2AU103:Zone Mean Air Temperature (C)',\n",
       "       'N2AU201:Zone Air Relative Humidity (%)',\n",
       "       'N2AU201:Zone Air Temperature (C)',\n",
       "       'N2AU201:Zone Mean Air Temperature (C)',\n",
       "       'N2AU202:Zone Air Relative Humidity (%)',\n",
       "       'N2AU202:Zone Air Temperature (C)',\n",
       "       'N2AU202:Zone Mean Air Temperature (C)',\n",
       "       'N2AU203:Zone Air Relative Humidity (%)',\n",
       "       'N2AU203:Zone Air Temperature (C)',\n",
       "       'N2AU203:Zone Mean Air Temperature (C)',\n",
       "       'N2PASILLO:Zone Air Relative Humidity (%)',\n",
       "       'N2PASILLO:Zone Air Temperature (C)',\n",
       "       'N2PASILLO:Zone Mean Air Temperature (C)',\n",
       "       'N2STR:Zone Air Relative Humidity (%)',\n",
       "       'N2STR:Zone Air Temperature (C)', 'N2STR:Zone Mean Air Temperature (C)',\n",
       "       'PBADM:Zone Air Relative Humidity (%)',\n",
       "       'PBADM:Zone Air Temperature (C)', 'PBADM:Zone Mean Air Temperature (C)',\n",
       "       'PBATENCIONCOFI:Zone Air Relative Humidity (%)',\n",
       "       'PBATENCIONCOFI:Zone Air Temperature (C)',\n",
       "       'PBATENCIONCOFI:Zone Mean Air Temperature (C)',\n",
       "       'PBCOORCOFI:Zone Air Relative Humidity (%)',\n",
       "       'PBCOORCOFI:Zone Air Temperature (C)',\n",
       "       'PBCOORCOFI:Zone Mean Air Temperature (C)',\n",
       "       'PBCOORDINACION:Zone Air Relative Humidity (%)',\n",
       "       'PBCOORDINACION:Zone Air Temperature (C)',\n",
       "       'PBCOORDINACION:Zone Mean Air Temperature (C)',\n",
       "       'PBDUCTOCOFI:Zone Air Relative Humidity (%)',\n",
       "       'PBDUCTOCOFI:Zone Air Temperature (C)',\n",
       "       'PBDUCTOCOFI:Zone Mean Air Temperature (C)',\n",
       "       'PBDUCTOSALAS:Zone Air Relative Humidity (%)',\n",
       "       'PBDUCTOSALAS:Zone Air Temperature (C)',\n",
       "       'PBDUCTOSALAS:Zone Mean Air Temperature (C)',\n",
       "       'PBDUCTOSCOM:Zone Air Relative Humidity (%)',\n",
       "       'PBDUCTOSCOM:Zone Air Temperature (C)',\n",
       "       'PBDUCTOSCOM:Zone Mean Air Temperature (C)',\n",
       "       'PBIMP:Zone Air Relative Humidity (%)',\n",
       "       'PBIMP:Zone Air Temperature (C)', 'PBIMP:Zone Mean Air Temperature (C)',\n",
       "       'PBSCOM:Zone Air Relative Humidity (%)',\n",
       "       'PBSCOM:Zone Air Temperature (C)',\n",
       "       'PBSCOM:Zone Mean Air Temperature (C)',\n",
       "       'PBSJUNTAS:Zone Air Relative Humidity (%)',\n",
       "       'PBSJUNTAS:Zone Air Temperature (C)',\n",
       "       'PBSJUNTAS:Zone Mean Air Temperature (C)',\n",
       "       'PBSMAESTROS:Zone Air Relative Humidity (%)',\n",
       "       'PBSMAESTROS:Zone Air Temperature (C)',\n",
       "       'PBSMAESTROS:Zone Mean Air Temperature (C)',\n",
       "       'PBSTR:Zone Air Relative Humidity (%)',\n",
       "       'PBSTR:Zone Air Temperature (C)', 'PBSTR:Zone Mean Air Temperature (C)',\n",
       "       'PBVESTIBULO:Zone Air Relative Humidity (%)',\n",
       "       'PBVESTIBULO:Zone Air Temperature (C)',\n",
       "       'PBVESTIBULO:Zone Mean Air Temperature (C)'],\n",
       "      dtype='object', name='variable_name')"
      ]
     },
     "execution_count": 12,
     "metadata": {},
     "output_type": "execute_result"
    }
   ],
   "source": [
    "df.columns"
   ]
  },
  {
   "cell_type": "code",
   "execution_count": 16,
   "metadata": {},
   "outputs": [],
   "source": [
    "json_rvi = read_sql.json_from_rvi(\"../data/eplusout.rvi\")#by default reads everything and rename Ti,To\n",
    "my_sql = read_sql(\"../data/eplusout.sql\", cols_json=json_rvi)\n",
    "df = my_sql.data\n",
    "# df = read_eplusql(\"../data/clase06.sql\",read='all')\n",
    "\n",
    "# df = read_eplusql(\"../data/eplusoutTo.sql\",read='construction') # reads only construction systems\n",
    "# df = read_eplusql(\"../data/eplusoutTo.sql\",read='data',rename_ZMAT=True) # reads only data"
   ]
  },
  {
   "cell_type": "code",
   "execution_count": 17,
   "metadata": {},
   "outputs": [
    {
     "data": {
      "text/plain": [
       "Index(['To', 'N1AU401:Zone Air Relative Humidity',\n",
       "       'N1AU401:Zone Air Temperature', 'Ti_N1AU401',\n",
       "       'N1AU402:Zone Air Relative Humidity', 'N1AU402:Zone Air Temperature',\n",
       "       'Ti_N1AU402', 'N1AU403:Zone Air Relative Humidity',\n",
       "       'N1AU403:Zone Air Temperature', 'Ti_N1AU403'],\n",
       "      dtype='object')"
      ]
     },
     "execution_count": 17,
     "metadata": {},
     "output_type": "execute_result"
    }
   ],
   "source": [
    "df.columns"
   ]
  },
  {
   "cell_type": "code",
   "execution_count": 18,
   "metadata": {},
   "outputs": [
    {
     "data": {
      "text/plain": [
       "[(0, 'Environment:Site Outdoor Air Drybulb Temperature (C)'),\n",
       " (1, 'N1AU401:Zone Mean Air Temperature (C)'),\n",
       " (2, 'N1AU402:Zone Mean Air Temperature (C)'),\n",
       " (3, 'N1AU403:Zone Mean Air Temperature (C)'),\n",
       " (4, 'N1AU404:Zone Mean Air Temperature (C)'),\n",
       " (5, 'N2AU101:Zone Mean Air Temperature (C)'),\n",
       " (6, 'N2AU102:Zone Mean Air Temperature (C)'),\n",
       " (7, 'N2AU103:Zone Mean Air Temperature (C)'),\n",
       " (8, 'N2AU201:Zone Mean Air Temperature (C)'),\n",
       " (9, 'N2AU202:Zone Mean Air Temperature (C)'),\n",
       " (10, 'N2AU203:Zone Mean Air Temperature (C)'),\n",
       " (11, 'N2PASILLO:Zone Mean Air Temperature (C)'),\n",
       " (12, 'N2STR:Zone Mean Air Temperature (C)'),\n",
       " (13, 'PBADM:Zone Mean Air Temperature (C)'),\n",
       " (14, 'PBATENCIONCOFI:Zone Mean Air Temperature (C)'),\n",
       " (15, 'PBCOORCOFI:Zone Mean Air Temperature (C)'),\n",
       " (16, 'PBCOORDINACION:Zone Mean Air Temperature (C)'),\n",
       " (17, 'PBDUCTOCOFI:Zone Mean Air Temperature (C)'),\n",
       " (18, 'PBDUCTOSALAS:Zone Mean Air Temperature (C)'),\n",
       " (19, 'PBDUCTOSCOM:Zone Mean Air Temperature (C)'),\n",
       " (20, 'PBIMP:Zone Mean Air Temperature (C)'),\n",
       " (21, 'PBSCOM:Zone Mean Air Temperature (C)'),\n",
       " (22, 'PBSJUNTAS:Zone Mean Air Temperature (C)'),\n",
       " (23, 'PBSMAESTROS:Zone Mean Air Temperature (C)'),\n",
       " (24, 'PBSTR:Zone Mean Air Temperature (C)'),\n",
       " (25, 'PBVESTIBULO:Zone Mean Air Temperature (C)'),\n",
       " (26, 'N1AU401:Zone Air Temperature (C)'),\n",
       " (27, 'N1AU401:Zone Air Relative Humidity (%)'),\n",
       " (28, 'N1AU402:Zone Air Temperature (C)'),\n",
       " (29, 'N1AU402:Zone Air Relative Humidity (%)'),\n",
       " (30, 'N1AU403:Zone Air Temperature (C)'),\n",
       " (31, 'N1AU403:Zone Air Relative Humidity (%)'),\n",
       " (32, 'N1AU404:Zone Air Temperature (C)'),\n",
       " (33, 'N1AU404:Zone Air Relative Humidity (%)'),\n",
       " (34, 'N2AU101:Zone Air Temperature (C)'),\n",
       " (35, 'N2AU101:Zone Air Relative Humidity (%)'),\n",
       " (36, 'N2AU102:Zone Air Temperature (C)'),\n",
       " (37, 'N2AU102:Zone Air Relative Humidity (%)'),\n",
       " (38, 'N2AU103:Zone Air Temperature (C)'),\n",
       " (39, 'N2AU103:Zone Air Relative Humidity (%)'),\n",
       " (40, 'N2AU201:Zone Air Temperature (C)'),\n",
       " (41, 'N2AU201:Zone Air Relative Humidity (%)'),\n",
       " (42, 'N2AU202:Zone Air Temperature (C)'),\n",
       " (43, 'N2AU202:Zone Air Relative Humidity (%)'),\n",
       " (44, 'N2AU203:Zone Air Temperature (C)'),\n",
       " (45, 'N2AU203:Zone Air Relative Humidity (%)'),\n",
       " (46, 'N2PASILLO:Zone Air Temperature (C)'),\n",
       " (47, 'N2PASILLO:Zone Air Relative Humidity (%)'),\n",
       " (48, 'N2STR:Zone Air Temperature (C)'),\n",
       " (49, 'N2STR:Zone Air Relative Humidity (%)'),\n",
       " (50, 'PBADM:Zone Air Temperature (C)'),\n",
       " (51, 'PBADM:Zone Air Relative Humidity (%)'),\n",
       " (52, 'PBATENCIONCOFI:Zone Air Temperature (C)'),\n",
       " (53, 'PBATENCIONCOFI:Zone Air Relative Humidity (%)'),\n",
       " (54, 'PBCOORCOFI:Zone Air Temperature (C)'),\n",
       " (55, 'PBCOORCOFI:Zone Air Relative Humidity (%)'),\n",
       " (56, 'PBCOORDINACION:Zone Air Temperature (C)'),\n",
       " (57, 'PBCOORDINACION:Zone Air Relative Humidity (%)'),\n",
       " (58, 'PBDUCTOCOFI:Zone Air Temperature (C)'),\n",
       " (59, 'PBDUCTOCOFI:Zone Air Relative Humidity (%)'),\n",
       " (60, 'PBDUCTOSALAS:Zone Air Temperature (C)'),\n",
       " (61, 'PBDUCTOSALAS:Zone Air Relative Humidity (%)'),\n",
       " (62, 'PBDUCTOSCOM:Zone Air Temperature (C)'),\n",
       " (63, 'PBDUCTOSCOM:Zone Air Relative Humidity (%)'),\n",
       " (64, 'PBIMP:Zone Air Temperature (C)'),\n",
       " (65, 'PBIMP:Zone Air Relative Humidity (%)'),\n",
       " (66, 'PBSCOM:Zone Air Temperature (C)'),\n",
       " (67, 'PBSCOM:Zone Air Relative Humidity (%)'),\n",
       " (68, 'PBSJUNTAS:Zone Air Temperature (C)'),\n",
       " (69, 'PBSJUNTAS:Zone Air Relative Humidity (%)'),\n",
       " (70, 'PBSMAESTROS:Zone Air Temperature (C)'),\n",
       " (71, 'PBSMAESTROS:Zone Air Relative Humidity (%)'),\n",
       " (72, 'PBSTR:Zone Air Temperature (C)'),\n",
       " (73, 'PBSTR:Zone Air Relative Humidity (%)'),\n",
       " (74, 'PBVESTIBULO:Zone Air Temperature (C)'),\n",
       " (75, 'PBVESTIBULO:Zone Air Relative Humidity (%)')]"
      ]
     },
     "execution_count": 18,
     "metadata": {},
     "output_type": "execute_result"
    }
   ],
   "source": [
    "my_sql.vars_numbered"
   ]
  },
  {
   "cell_type": "code",
   "execution_count": 19,
   "metadata": {
    "scrolled": true
   },
   "outputs": [
    {
     "data": {
      "text/plain": [
       "[(0, 'To'),\n",
       " (1, 'N1AU401:Zone Air Relative Humidity'),\n",
       " (2, 'N1AU401:Zone Air Temperature'),\n",
       " (3, 'Ti_N1AU401'),\n",
       " (4, 'N1AU402:Zone Air Relative Humidity'),\n",
       " (5, 'N1AU402:Zone Air Temperature'),\n",
       " (6, 'Ti_N1AU402'),\n",
       " (7, 'N1AU403:Zone Air Relative Humidity'),\n",
       " (8, 'Tii_N1AU403'),\n",
       " (9, 'Ti_N1AU403')]"
      ]
     },
     "execution_count": 19,
     "metadata": {},
     "output_type": "execute_result"
    }
   ],
   "source": [
    "my_sql.rename_cols([8],[\"Tii_N1AU403\"])\n",
    "my_sql.vars_numbered"
   ]
  },
  {
   "cell_type": "code",
   "execution_count": 20,
   "metadata": {
    "scrolled": true
   },
   "outputs": [
    {
     "data": {
      "text/plain": [
       "Index(['To', 'N1AU401:Zone Air Relative Humidity',\n",
       "       'N1AU401:Zone Air Temperature', 'Ti_N1AU401',\n",
       "       'N1AU402:Zone Air Relative Humidity', 'N1AU402:Zone Air Temperature',\n",
       "       'Ti_N1AU402', 'N1AU403:Zone Air Relative Humidity', 'Tii_N1AU403',\n",
       "       'Ti_N1AU403'],\n",
       "      dtype='object')"
      ]
     },
     "execution_count": 20,
     "metadata": {},
     "output_type": "execute_result"
    }
   ],
   "source": [
    "my_sql.vars"
   ]
  },
  {
   "cell_type": "code",
   "execution_count": 21,
   "metadata": {},
   "outputs": [
    {
     "data": {
      "text/plain": [
       "array(['M-05_AIRE_M-05', 'PS-01', 'PS-01 REVERSED', 'PS-02', 'PS-12',\n",
       "       'PS-05', 'M-16_MC-04_M-16', 'MC-04', 'MC-04_M-16',\n",
       "       'TRABE_CONCRETO', 'M-06', 'M-08', 'CIELOFALSO', 'MDF',\n",
       "       'PUERTA METALICA', 'M-05', 'M-05 REVERSED', 'VENTANA_10MM',\n",
       "       'VENTANA_6MM', 'APERTURA'], dtype=object)"
      ]
     },
     "execution_count": 21,
     "metadata": {},
     "output_type": "execute_result"
    }
   ],
   "source": [
    "cs = my_sql.construction_systems\n",
    "cs"
   ]
  },
  {
   "cell_type": "code",
   "execution_count": 22,
   "metadata": {
    "scrolled": false
   },
   "outputs": [
    {
     "name": "stdout",
     "output_type": "stream",
     "text": [
      "\n",
      "\n",
      "Construction system:\u001b[1mM-05_AIRE_M-05\u001b[0m\n",
      "Total thickness    :0.6 m\n",
      "Total layers:[7]\n",
      "InsideAbsorpVis:[0.3]\n",
      "OutsideAbsorpVis:[0.3]\n",
      "OutsideAbsorpSolar:[0.3]\n",
      "InsideAbsorpThermal:[0.9]\n",
      "OutsideRoughness:[3]\n"
     ]
    },
    {
     "name": "stderr",
     "output_type": "stream",
     "text": [
      "/Users/gbv/opt/anaconda3/lib/python3.8/site-packages/iertools/read.py:163: FutureWarning: this method is deprecated in favour of `Styler.hide(axis='index')`\n",
      "  display(cs[properties].style.hide_index())\n"
     ]
    },
    {
     "data": {
      "text/html": [
       "<style type=\"text/css\">\n",
       "</style>\n",
       "<table id=\"T_f459a\">\n",
       "  <thead>\n",
       "    <tr>\n",
       "      <th id=\"T_f459a_level0_col0\" class=\"col_heading level0 col0\" >NameMaterial</th>\n",
       "      <th id=\"T_f459a_level0_col1\" class=\"col_heading level0 col1\" >Conductivity</th>\n",
       "      <th id=\"T_f459a_level0_col2\" class=\"col_heading level0 col2\" >Density</th>\n",
       "      <th id=\"T_f459a_level0_col3\" class=\"col_heading level0 col3\" >SpecHeat</th>\n",
       "      <th id=\"T_f459a_level0_col4\" class=\"col_heading level0 col4\" >Thickness</th>\n",
       "    </tr>\n",
       "  </thead>\n",
       "  <tbody>\n",
       "    <tr>\n",
       "      <td id=\"T_f459a_row0_col0\" class=\"data row0 col0\" >TABIQUE_HUECO_C1_L20_A30</td>\n",
       "      <td id=\"T_f459a_row0_col1\" class=\"data row0 col1\" >0.700000</td>\n",
       "      <td id=\"T_f459a_row0_col2\" class=\"data row0 col2\" >1715.480000</td>\n",
       "      <td id=\"T_f459a_row0_col3\" class=\"data row0 col3\" >800.000000</td>\n",
       "      <td id=\"T_f459a_row0_col4\" class=\"data row0 col4\" >0.025400</td>\n",
       "    </tr>\n",
       "    <tr>\n",
       "      <td id=\"T_f459a_row1_col0\" class=\"data row1 col0\" >TABIQUE_HUECO_C2_L100</td>\n",
       "      <td id=\"T_f459a_row1_col1\" class=\"data row1 col1\" >0.233000</td>\n",
       "      <td id=\"T_f459a_row1_col2\" class=\"data row1 col2\" >526.100000</td>\n",
       "      <td id=\"T_f459a_row1_col3\" class=\"data row1 col3\" >942.160000</td>\n",
       "      <td id=\"T_f459a_row1_col4\" class=\"data row1 col4\" >0.089200</td>\n",
       "    </tr>\n",
       "    <tr>\n",
       "      <td id=\"T_f459a_row2_col0\" class=\"data row2 col0\" >TABIQUE_HUECO_C3_L20_A30</td>\n",
       "      <td id=\"T_f459a_row2_col1\" class=\"data row2 col1\" >0.700000</td>\n",
       "      <td id=\"T_f459a_row2_col2\" class=\"data row2 col2\" >1715.480000</td>\n",
       "      <td id=\"T_f459a_row2_col3\" class=\"data row2 col3\" >800.000000</td>\n",
       "      <td id=\"T_f459a_row2_col4\" class=\"data row2 col4\" >0.025400</td>\n",
       "    </tr>\n",
       "    <tr>\n",
       "      <td id=\"T_f459a_row3_col0\" class=\"data row3 col0\" >AIRE_L320</td>\n",
       "      <td id=\"T_f459a_row3_col1\" class=\"data row3 col1\" >0.025510</td>\n",
       "      <td id=\"T_f459a_row3_col2\" class=\"data row3 col2\" >1.184000</td>\n",
       "      <td id=\"T_f459a_row3_col3\" class=\"data row3 col3\" >1007.000000</td>\n",
       "      <td id=\"T_f459a_row3_col4\" class=\"data row3 col4\" >0.320000</td>\n",
       "    </tr>\n",
       "    <tr>\n",
       "      <td id=\"T_f459a_row4_col0\" class=\"data row4 col0\" >TABIQUE_HUECO_C3_L20_A30</td>\n",
       "      <td id=\"T_f459a_row4_col1\" class=\"data row4 col1\" >0.700000</td>\n",
       "      <td id=\"T_f459a_row4_col2\" class=\"data row4 col2\" >1715.480000</td>\n",
       "      <td id=\"T_f459a_row4_col3\" class=\"data row4 col3\" >800.000000</td>\n",
       "      <td id=\"T_f459a_row4_col4\" class=\"data row4 col4\" >0.025400</td>\n",
       "    </tr>\n",
       "    <tr>\n",
       "      <td id=\"T_f459a_row5_col0\" class=\"data row5 col0\" >TABIQUE_HUECO_C2_L100</td>\n",
       "      <td id=\"T_f459a_row5_col1\" class=\"data row5 col1\" >0.233000</td>\n",
       "      <td id=\"T_f459a_row5_col2\" class=\"data row5 col2\" >526.100000</td>\n",
       "      <td id=\"T_f459a_row5_col3\" class=\"data row5 col3\" >942.160000</td>\n",
       "      <td id=\"T_f459a_row5_col4\" class=\"data row5 col4\" >0.089200</td>\n",
       "    </tr>\n",
       "    <tr>\n",
       "      <td id=\"T_f459a_row6_col0\" class=\"data row6 col0\" >TABIQUE_HUECO_C1_L20_A30</td>\n",
       "      <td id=\"T_f459a_row6_col1\" class=\"data row6 col1\" >0.700000</td>\n",
       "      <td id=\"T_f459a_row6_col2\" class=\"data row6 col2\" >1715.480000</td>\n",
       "      <td id=\"T_f459a_row6_col3\" class=\"data row6 col3\" >800.000000</td>\n",
       "      <td id=\"T_f459a_row6_col4\" class=\"data row6 col4\" >0.025400</td>\n",
       "    </tr>\n",
       "  </tbody>\n",
       "</table>\n"
      ],
      "text/plain": [
       "<pandas.io.formats.style.Styler at 0x7f93d87c4d30>"
      ]
     },
     "metadata": {},
     "output_type": "display_data"
    },
    {
     "name": "stdout",
     "output_type": "stream",
     "text": [
      "\n",
      "\n",
      "\n",
      "\n",
      "\n",
      "\n",
      "Construction system:\u001b[1mPS-01\u001b[0m\n",
      "Total thickness    :0.25 m\n",
      "Total layers:[2]\n",
      "InsideAbsorpVis:[0.7]\n",
      "OutsideAbsorpVis:[0.7]\n",
      "OutsideAbsorpSolar:[0.7]\n",
      "InsideAbsorpThermal:[0.9]\n",
      "OutsideRoughness:[3]\n"
     ]
    },
    {
     "name": "stderr",
     "output_type": "stream",
     "text": [
      "/Users/gbv/opt/anaconda3/lib/python3.8/site-packages/iertools/read.py:163: FutureWarning: this method is deprecated in favour of `Styler.hide(axis='index')`\n",
      "  display(cs[properties].style.hide_index())\n"
     ]
    },
    {
     "data": {
      "text/html": [
       "<style type=\"text/css\">\n",
       "</style>\n",
       "<table id=\"T_49775\">\n",
       "  <thead>\n",
       "    <tr>\n",
       "      <th id=\"T_49775_level0_col0\" class=\"col_heading level0 col0\" >NameMaterial</th>\n",
       "      <th id=\"T_49775_level0_col1\" class=\"col_heading level0 col1\" >Conductivity</th>\n",
       "      <th id=\"T_49775_level0_col2\" class=\"col_heading level0 col2\" >Density</th>\n",
       "      <th id=\"T_49775_level0_col3\" class=\"col_heading level0 col3\" >SpecHeat</th>\n",
       "      <th id=\"T_49775_level0_col4\" class=\"col_heading level0 col4\" >Thickness</th>\n",
       "    </tr>\n",
       "  </thead>\n",
       "  <tbody>\n",
       "    <tr>\n",
       "      <td id=\"T_49775_row0_col0\" class=\"data row0 col0\" >CONCRETO_FC150_L80_A70</td>\n",
       "      <td id=\"T_49775_row0_col1\" class=\"data row0 col1\" >1.300000</td>\n",
       "      <td id=\"T_49775_row0_col2\" class=\"data row0 col2\" >1800.000000</td>\n",
       "      <td id=\"T_49775_row0_col3\" class=\"data row0 col3\" >1000.000000</td>\n",
       "      <td id=\"T_49775_row0_col4\" class=\"data row0 col4\" >0.080000</td>\n",
       "    </tr>\n",
       "    <tr>\n",
       "      <td id=\"T_49775_row1_col0\" class=\"data row1 col0\" >CONCRETO_FC250_L170</td>\n",
       "      <td id=\"T_49775_row1_col1\" class=\"data row1 col1\" >2.000000</td>\n",
       "      <td id=\"T_49775_row1_col2\" class=\"data row1 col2\" >2400.000000</td>\n",
       "      <td id=\"T_49775_row1_col3\" class=\"data row1 col3\" >1000.000000</td>\n",
       "      <td id=\"T_49775_row1_col4\" class=\"data row1 col4\" >0.170000</td>\n",
       "    </tr>\n",
       "  </tbody>\n",
       "</table>\n"
      ],
      "text/plain": [
       "<pandas.io.formats.style.Styler at 0x7f93e4534c10>"
      ]
     },
     "metadata": {},
     "output_type": "display_data"
    },
    {
     "name": "stdout",
     "output_type": "stream",
     "text": [
      "\n",
      "\n",
      "\n",
      "\n",
      "\n",
      "\n",
      "Construction system:\u001b[1mPS-01 REVERSED\u001b[0m\n",
      "Total thickness    :0.25 m\n",
      "Total layers:[2]\n",
      "InsideAbsorpVis:[0.7]\n",
      "OutsideAbsorpVis:[0.7]\n",
      "OutsideAbsorpSolar:[0.7]\n",
      "InsideAbsorpThermal:[0.9]\n",
      "OutsideRoughness:[3]\n"
     ]
    },
    {
     "name": "stderr",
     "output_type": "stream",
     "text": [
      "/Users/gbv/opt/anaconda3/lib/python3.8/site-packages/iertools/read.py:163: FutureWarning: this method is deprecated in favour of `Styler.hide(axis='index')`\n",
      "  display(cs[properties].style.hide_index())\n"
     ]
    },
    {
     "data": {
      "text/html": [
       "<style type=\"text/css\">\n",
       "</style>\n",
       "<table id=\"T_4e21b\">\n",
       "  <thead>\n",
       "    <tr>\n",
       "      <th id=\"T_4e21b_level0_col0\" class=\"col_heading level0 col0\" >NameMaterial</th>\n",
       "      <th id=\"T_4e21b_level0_col1\" class=\"col_heading level0 col1\" >Conductivity</th>\n",
       "      <th id=\"T_4e21b_level0_col2\" class=\"col_heading level0 col2\" >Density</th>\n",
       "      <th id=\"T_4e21b_level0_col3\" class=\"col_heading level0 col3\" >SpecHeat</th>\n",
       "      <th id=\"T_4e21b_level0_col4\" class=\"col_heading level0 col4\" >Thickness</th>\n",
       "    </tr>\n",
       "  </thead>\n",
       "  <tbody>\n",
       "    <tr>\n",
       "      <td id=\"T_4e21b_row0_col0\" class=\"data row0 col0\" >CONCRETO_FC250_L170</td>\n",
       "      <td id=\"T_4e21b_row0_col1\" class=\"data row0 col1\" >2.000000</td>\n",
       "      <td id=\"T_4e21b_row0_col2\" class=\"data row0 col2\" >2400.000000</td>\n",
       "      <td id=\"T_4e21b_row0_col3\" class=\"data row0 col3\" >1000.000000</td>\n",
       "      <td id=\"T_4e21b_row0_col4\" class=\"data row0 col4\" >0.170000</td>\n",
       "    </tr>\n",
       "    <tr>\n",
       "      <td id=\"T_4e21b_row1_col0\" class=\"data row1 col0\" >CONCRETO_FC150_L80_A70</td>\n",
       "      <td id=\"T_4e21b_row1_col1\" class=\"data row1 col1\" >1.300000</td>\n",
       "      <td id=\"T_4e21b_row1_col2\" class=\"data row1 col2\" >1800.000000</td>\n",
       "      <td id=\"T_4e21b_row1_col3\" class=\"data row1 col3\" >1000.000000</td>\n",
       "      <td id=\"T_4e21b_row1_col4\" class=\"data row1 col4\" >0.080000</td>\n",
       "    </tr>\n",
       "  </tbody>\n",
       "</table>\n"
      ],
      "text/plain": [
       "<pandas.io.formats.style.Styler at 0x7f93ec6af9d0>"
      ]
     },
     "metadata": {},
     "output_type": "display_data"
    },
    {
     "name": "stdout",
     "output_type": "stream",
     "text": [
      "\n",
      "\n",
      "\n",
      "\n",
      "\n",
      "\n",
      "Construction system:\u001b[1mPS-02\u001b[0m\n",
      "Total thickness    :0.25 m\n",
      "Total layers:[2]\n",
      "InsideAbsorpVis:[0.7]\n",
      "OutsideAbsorpVis:[0.7]\n",
      "OutsideAbsorpSolar:[0.7]\n",
      "InsideAbsorpThermal:[0.9]\n",
      "OutsideRoughness:[3]\n"
     ]
    },
    {
     "name": "stderr",
     "output_type": "stream",
     "text": [
      "/Users/gbv/opt/anaconda3/lib/python3.8/site-packages/iertools/read.py:163: FutureWarning: this method is deprecated in favour of `Styler.hide(axis='index')`\n",
      "  display(cs[properties].style.hide_index())\n"
     ]
    },
    {
     "data": {
      "text/html": [
       "<style type=\"text/css\">\n",
       "</style>\n",
       "<table id=\"T_b7562\">\n",
       "  <thead>\n",
       "    <tr>\n",
       "      <th id=\"T_b7562_level0_col0\" class=\"col_heading level0 col0\" >NameMaterial</th>\n",
       "      <th id=\"T_b7562_level0_col1\" class=\"col_heading level0 col1\" >Conductivity</th>\n",
       "      <th id=\"T_b7562_level0_col2\" class=\"col_heading level0 col2\" >Density</th>\n",
       "      <th id=\"T_b7562_level0_col3\" class=\"col_heading level0 col3\" >SpecHeat</th>\n",
       "      <th id=\"T_b7562_level0_col4\" class=\"col_heading level0 col4\" >Thickness</th>\n",
       "    </tr>\n",
       "  </thead>\n",
       "  <tbody>\n",
       "    <tr>\n",
       "      <td id=\"T_b7562_row0_col0\" class=\"data row0 col0\" >CONCRETO_FC150_MARMOL_L80_A70</td>\n",
       "      <td id=\"T_b7562_row0_col1\" class=\"data row0 col1\" >1.300000</td>\n",
       "      <td id=\"T_b7562_row0_col2\" class=\"data row0 col2\" >1800.000000</td>\n",
       "      <td id=\"T_b7562_row0_col3\" class=\"data row0 col3\" >1000.000000</td>\n",
       "      <td id=\"T_b7562_row0_col4\" class=\"data row0 col4\" >0.080000</td>\n",
       "    </tr>\n",
       "    <tr>\n",
       "      <td id=\"T_b7562_row1_col0\" class=\"data row1 col0\" >CONCRETO_FC250_L170</td>\n",
       "      <td id=\"T_b7562_row1_col1\" class=\"data row1 col1\" >2.000000</td>\n",
       "      <td id=\"T_b7562_row1_col2\" class=\"data row1 col2\" >2400.000000</td>\n",
       "      <td id=\"T_b7562_row1_col3\" class=\"data row1 col3\" >1000.000000</td>\n",
       "      <td id=\"T_b7562_row1_col4\" class=\"data row1 col4\" >0.170000</td>\n",
       "    </tr>\n",
       "  </tbody>\n",
       "</table>\n"
      ],
      "text/plain": [
       "<pandas.io.formats.style.Styler at 0x7f93e454cc10>"
      ]
     },
     "metadata": {},
     "output_type": "display_data"
    },
    {
     "name": "stdout",
     "output_type": "stream",
     "text": [
      "\n",
      "\n",
      "\n",
      "\n",
      "\n",
      "\n",
      "Construction system:\u001b[1mPS-12\u001b[0m\n",
      "Total thickness    :0.25 m\n",
      "Total layers:[2]\n",
      "InsideAbsorpVis:[0.7]\n",
      "OutsideAbsorpVis:[0.7]\n",
      "OutsideAbsorpSolar:[0.7]\n",
      "InsideAbsorpThermal:[0.9]\n",
      "OutsideRoughness:[3]\n"
     ]
    },
    {
     "name": "stderr",
     "output_type": "stream",
     "text": [
      "/Users/gbv/opt/anaconda3/lib/python3.8/site-packages/iertools/read.py:163: FutureWarning: this method is deprecated in favour of `Styler.hide(axis='index')`\n",
      "  display(cs[properties].style.hide_index())\n"
     ]
    },
    {
     "data": {
      "text/html": [
       "<style type=\"text/css\">\n",
       "</style>\n",
       "<table id=\"T_aa7f8\">\n",
       "  <thead>\n",
       "    <tr>\n",
       "      <th id=\"T_aa7f8_level0_col0\" class=\"col_heading level0 col0\" >NameMaterial</th>\n",
       "      <th id=\"T_aa7f8_level0_col1\" class=\"col_heading level0 col1\" >Conductivity</th>\n",
       "      <th id=\"T_aa7f8_level0_col2\" class=\"col_heading level0 col2\" >Density</th>\n",
       "      <th id=\"T_aa7f8_level0_col3\" class=\"col_heading level0 col3\" >SpecHeat</th>\n",
       "      <th id=\"T_aa7f8_level0_col4\" class=\"col_heading level0 col4\" >Thickness</th>\n",
       "    </tr>\n",
       "  </thead>\n",
       "  <tbody>\n",
       "    <tr>\n",
       "      <td id=\"T_aa7f8_row0_col0\" class=\"data row0 col0\" >CONCRETO_FC150_MARMOL_L80_A70</td>\n",
       "      <td id=\"T_aa7f8_row0_col1\" class=\"data row0 col1\" >1.300000</td>\n",
       "      <td id=\"T_aa7f8_row0_col2\" class=\"data row0 col2\" >1800.000000</td>\n",
       "      <td id=\"T_aa7f8_row0_col3\" class=\"data row0 col3\" >1000.000000</td>\n",
       "      <td id=\"T_aa7f8_row0_col4\" class=\"data row0 col4\" >0.080000</td>\n",
       "    </tr>\n",
       "    <tr>\n",
       "      <td id=\"T_aa7f8_row1_col0\" class=\"data row1 col0\" >CONCRETO_FC250_L170</td>\n",
       "      <td id=\"T_aa7f8_row1_col1\" class=\"data row1 col1\" >2.000000</td>\n",
       "      <td id=\"T_aa7f8_row1_col2\" class=\"data row1 col2\" >2400.000000</td>\n",
       "      <td id=\"T_aa7f8_row1_col3\" class=\"data row1 col3\" >1000.000000</td>\n",
       "      <td id=\"T_aa7f8_row1_col4\" class=\"data row1 col4\" >0.170000</td>\n",
       "    </tr>\n",
       "  </tbody>\n",
       "</table>\n"
      ],
      "text/plain": [
       "<pandas.io.formats.style.Styler at 0x7f93e454c190>"
      ]
     },
     "metadata": {},
     "output_type": "display_data"
    },
    {
     "name": "stdout",
     "output_type": "stream",
     "text": [
      "\n",
      "\n",
      "\n",
      "\n",
      "\n",
      "\n",
      "Construction system:\u001b[1mPS-05\u001b[0m\n",
      "Total thickness    :0.445 m\n",
      "Total layers:[3]\n",
      "InsideAbsorpVis:[0.7]\n",
      "OutsideAbsorpVis:[0.3]\n",
      "OutsideAbsorpSolar:[0.3]\n",
      "InsideAbsorpThermal:[0.9]\n",
      "OutsideRoughness:[1]\n"
     ]
    },
    {
     "name": "stderr",
     "output_type": "stream",
     "text": [
      "/Users/gbv/opt/anaconda3/lib/python3.8/site-packages/iertools/read.py:163: FutureWarning: this method is deprecated in favour of `Styler.hide(axis='index')`\n",
      "  display(cs[properties].style.hide_index())\n"
     ]
    },
    {
     "data": {
      "text/html": [
       "<style type=\"text/css\">\n",
       "</style>\n",
       "<table id=\"T_a9fd8\">\n",
       "  <thead>\n",
       "    <tr>\n",
       "      <th id=\"T_a9fd8_level0_col0\" class=\"col_heading level0 col0\" >NameMaterial</th>\n",
       "      <th id=\"T_a9fd8_level0_col1\" class=\"col_heading level0 col1\" >Conductivity</th>\n",
       "      <th id=\"T_a9fd8_level0_col2\" class=\"col_heading level0 col2\" >Density</th>\n",
       "      <th id=\"T_a9fd8_level0_col3\" class=\"col_heading level0 col3\" >SpecHeat</th>\n",
       "      <th id=\"T_a9fd8_level0_col4\" class=\"col_heading level0 col4\" >Thickness</th>\n",
       "    </tr>\n",
       "  </thead>\n",
       "  <tbody>\n",
       "    <tr>\n",
       "      <td id=\"T_a9fd8_row0_col0\" class=\"data row0 col0\" >IMPERMEABILIZANTE_L5_A30</td>\n",
       "      <td id=\"T_a9fd8_row0_col1\" class=\"data row0 col1\" >0.160000</td>\n",
       "      <td id=\"T_a9fd8_row0_col2\" class=\"data row0 col2\" >1121.290000</td>\n",
       "      <td id=\"T_a9fd8_row0_col3\" class=\"data row0 col3\" >1460.000000</td>\n",
       "      <td id=\"T_a9fd8_row0_col4\" class=\"data row0 col4\" >0.005000</td>\n",
       "    </tr>\n",
       "    <tr>\n",
       "      <td id=\"T_a9fd8_row1_col0\" class=\"data row1 col0\" >VERMICULITA_L270</td>\n",
       "      <td id=\"T_a9fd8_row1_col1\" class=\"data row1 col1\" >0.190000</td>\n",
       "      <td id=\"T_a9fd8_row1_col2\" class=\"data row1 col2\" >700.000000</td>\n",
       "      <td id=\"T_a9fd8_row1_col3\" class=\"data row1 col3\" >800.000000</td>\n",
       "      <td id=\"T_a9fd8_row1_col4\" class=\"data row1 col4\" >0.270000</td>\n",
       "    </tr>\n",
       "    <tr>\n",
       "      <td id=\"T_a9fd8_row2_col0\" class=\"data row2 col0\" >CONCRETO_FC250_L170</td>\n",
       "      <td id=\"T_a9fd8_row2_col1\" class=\"data row2 col1\" >2.000000</td>\n",
       "      <td id=\"T_a9fd8_row2_col2\" class=\"data row2 col2\" >2400.000000</td>\n",
       "      <td id=\"T_a9fd8_row2_col3\" class=\"data row2 col3\" >1000.000000</td>\n",
       "      <td id=\"T_a9fd8_row2_col4\" class=\"data row2 col4\" >0.170000</td>\n",
       "    </tr>\n",
       "  </tbody>\n",
       "</table>\n"
      ],
      "text/plain": [
       "<pandas.io.formats.style.Styler at 0x7f93d3b0c460>"
      ]
     },
     "metadata": {},
     "output_type": "display_data"
    },
    {
     "name": "stdout",
     "output_type": "stream",
     "text": [
      "\n",
      "\n",
      "\n",
      "\n",
      "\n",
      "\n",
      "Construction system:\u001b[1mM-16_MC-04_M-16\u001b[0m\n",
      "Total thickness    :0.22 m\n",
      "Total layers:[3]\n",
      "InsideAbsorpVis:[0.3]\n",
      "OutsideAbsorpVis:[0.3]\n",
      "OutsideAbsorpSolar:[0.3]\n",
      "InsideAbsorpThermal:[0.9]\n",
      "OutsideRoughness:[5]\n"
     ]
    },
    {
     "name": "stderr",
     "output_type": "stream",
     "text": [
      "/Users/gbv/opt/anaconda3/lib/python3.8/site-packages/iertools/read.py:163: FutureWarning: this method is deprecated in favour of `Styler.hide(axis='index')`\n",
      "  display(cs[properties].style.hide_index())\n"
     ]
    },
    {
     "data": {
      "text/html": [
       "<style type=\"text/css\">\n",
       "</style>\n",
       "<table id=\"T_c5a99\">\n",
       "  <thead>\n",
       "    <tr>\n",
       "      <th id=\"T_c5a99_level0_col0\" class=\"col_heading level0 col0\" >NameMaterial</th>\n",
       "      <th id=\"T_c5a99_level0_col1\" class=\"col_heading level0 col1\" >Conductivity</th>\n",
       "      <th id=\"T_c5a99_level0_col2\" class=\"col_heading level0 col2\" >Density</th>\n",
       "      <th id=\"T_c5a99_level0_col3\" class=\"col_heading level0 col3\" >SpecHeat</th>\n",
       "      <th id=\"T_c5a99_level0_col4\" class=\"col_heading level0 col4\" >Thickness</th>\n",
       "    </tr>\n",
       "  </thead>\n",
       "  <tbody>\n",
       "    <tr>\n",
       "      <td id=\"T_c5a99_row0_col0\" class=\"data row0 col0\" >FACHALETA_L10_A30</td>\n",
       "      <td id=\"T_c5a99_row0_col1\" class=\"data row0 col1\" >0.700000</td>\n",
       "      <td id=\"T_c5a99_row0_col2\" class=\"data row0 col2\" >1970.000000</td>\n",
       "      <td id=\"T_c5a99_row0_col3\" class=\"data row0 col3\" >800.000000</td>\n",
       "      <td id=\"T_c5a99_row0_col4\" class=\"data row0 col4\" >0.010000</td>\n",
       "    </tr>\n",
       "    <tr>\n",
       "      <td id=\"T_c5a99_row1_col0\" class=\"data row1 col0\" >CONCRETO_FC250_L200_A70</td>\n",
       "      <td id=\"T_c5a99_row1_col1\" class=\"data row1 col1\" >2.000000</td>\n",
       "      <td id=\"T_c5a99_row1_col2\" class=\"data row1 col2\" >2400.000000</td>\n",
       "      <td id=\"T_c5a99_row1_col3\" class=\"data row1 col3\" >1000.000000</td>\n",
       "      <td id=\"T_c5a99_row1_col4\" class=\"data row1 col4\" >0.200000</td>\n",
       "    </tr>\n",
       "    <tr>\n",
       "      <td id=\"T_c5a99_row2_col0\" class=\"data row2 col0\" >FACHALETA_L10_A30</td>\n",
       "      <td id=\"T_c5a99_row2_col1\" class=\"data row2 col1\" >0.700000</td>\n",
       "      <td id=\"T_c5a99_row2_col2\" class=\"data row2 col2\" >1970.000000</td>\n",
       "      <td id=\"T_c5a99_row2_col3\" class=\"data row2 col3\" >800.000000</td>\n",
       "      <td id=\"T_c5a99_row2_col4\" class=\"data row2 col4\" >0.010000</td>\n",
       "    </tr>\n",
       "  </tbody>\n",
       "</table>\n"
      ],
      "text/plain": [
       "<pandas.io.formats.style.Styler at 0x7f93e454c8e0>"
      ]
     },
     "metadata": {},
     "output_type": "display_data"
    },
    {
     "name": "stdout",
     "output_type": "stream",
     "text": [
      "\n",
      "\n",
      "\n",
      "\n",
      "\n",
      "\n",
      "Construction system:\u001b[1mMC-04\u001b[0m\n",
      "Total thickness    :0.2 m\n",
      "Total layers:[1]\n",
      "InsideAbsorpVis:[0.7]\n",
      "OutsideAbsorpVis:[0.7]\n",
      "OutsideAbsorpSolar:[0.7]\n",
      "InsideAbsorpThermal:[0.9]\n",
      "OutsideRoughness:[3]\n"
     ]
    },
    {
     "name": "stderr",
     "output_type": "stream",
     "text": [
      "/Users/gbv/opt/anaconda3/lib/python3.8/site-packages/iertools/read.py:163: FutureWarning: this method is deprecated in favour of `Styler.hide(axis='index')`\n",
      "  display(cs[properties].style.hide_index())\n"
     ]
    },
    {
     "data": {
      "text/html": [
       "<style type=\"text/css\">\n",
       "</style>\n",
       "<table id=\"T_2d70b\">\n",
       "  <thead>\n",
       "    <tr>\n",
       "      <th id=\"T_2d70b_level0_col0\" class=\"col_heading level0 col0\" >NameMaterial</th>\n",
       "      <th id=\"T_2d70b_level0_col1\" class=\"col_heading level0 col1\" >Conductivity</th>\n",
       "      <th id=\"T_2d70b_level0_col2\" class=\"col_heading level0 col2\" >Density</th>\n",
       "      <th id=\"T_2d70b_level0_col3\" class=\"col_heading level0 col3\" >SpecHeat</th>\n",
       "      <th id=\"T_2d70b_level0_col4\" class=\"col_heading level0 col4\" >Thickness</th>\n",
       "    </tr>\n",
       "  </thead>\n",
       "  <tbody>\n",
       "    <tr>\n",
       "      <td id=\"T_2d70b_row0_col0\" class=\"data row0 col0\" >CONCRETO_FC250_L200_A70</td>\n",
       "      <td id=\"T_2d70b_row0_col1\" class=\"data row0 col1\" >2.000000</td>\n",
       "      <td id=\"T_2d70b_row0_col2\" class=\"data row0 col2\" >2400.000000</td>\n",
       "      <td id=\"T_2d70b_row0_col3\" class=\"data row0 col3\" >1000.000000</td>\n",
       "      <td id=\"T_2d70b_row0_col4\" class=\"data row0 col4\" >0.200000</td>\n",
       "    </tr>\n",
       "  </tbody>\n",
       "</table>\n"
      ],
      "text/plain": [
       "<pandas.io.formats.style.Styler at 0x7f93d3b0c7c0>"
      ]
     },
     "metadata": {},
     "output_type": "display_data"
    },
    {
     "name": "stdout",
     "output_type": "stream",
     "text": [
      "\n",
      "\n",
      "\n",
      "\n",
      "\n",
      "\n",
      "Construction system:\u001b[1mMC-04_M-16\u001b[0m\n",
      "Total thickness    :0.21 m\n",
      "Total layers:[2]\n",
      "InsideAbsorpVis:[0.3]\n",
      "OutsideAbsorpVis:[0.7]\n",
      "OutsideAbsorpSolar:[0.7]\n",
      "InsideAbsorpThermal:[0.9]\n",
      "OutsideRoughness:[3]\n"
     ]
    },
    {
     "name": "stderr",
     "output_type": "stream",
     "text": [
      "/Users/gbv/opt/anaconda3/lib/python3.8/site-packages/iertools/read.py:163: FutureWarning: this method is deprecated in favour of `Styler.hide(axis='index')`\n",
      "  display(cs[properties].style.hide_index())\n"
     ]
    },
    {
     "data": {
      "text/html": [
       "<style type=\"text/css\">\n",
       "</style>\n",
       "<table id=\"T_bd560\">\n",
       "  <thead>\n",
       "    <tr>\n",
       "      <th id=\"T_bd560_level0_col0\" class=\"col_heading level0 col0\" >NameMaterial</th>\n",
       "      <th id=\"T_bd560_level0_col1\" class=\"col_heading level0 col1\" >Conductivity</th>\n",
       "      <th id=\"T_bd560_level0_col2\" class=\"col_heading level0 col2\" >Density</th>\n",
       "      <th id=\"T_bd560_level0_col3\" class=\"col_heading level0 col3\" >SpecHeat</th>\n",
       "      <th id=\"T_bd560_level0_col4\" class=\"col_heading level0 col4\" >Thickness</th>\n",
       "    </tr>\n",
       "  </thead>\n",
       "  <tbody>\n",
       "    <tr>\n",
       "      <td id=\"T_bd560_row0_col0\" class=\"data row0 col0\" >CONCRETO_FC250_L200_A70</td>\n",
       "      <td id=\"T_bd560_row0_col1\" class=\"data row0 col1\" >2.000000</td>\n",
       "      <td id=\"T_bd560_row0_col2\" class=\"data row0 col2\" >2400.000000</td>\n",
       "      <td id=\"T_bd560_row0_col3\" class=\"data row0 col3\" >1000.000000</td>\n",
       "      <td id=\"T_bd560_row0_col4\" class=\"data row0 col4\" >0.200000</td>\n",
       "    </tr>\n",
       "    <tr>\n",
       "      <td id=\"T_bd560_row1_col0\" class=\"data row1 col0\" >FACHALETA_L10_A30</td>\n",
       "      <td id=\"T_bd560_row1_col1\" class=\"data row1 col1\" >0.700000</td>\n",
       "      <td id=\"T_bd560_row1_col2\" class=\"data row1 col2\" >1970.000000</td>\n",
       "      <td id=\"T_bd560_row1_col3\" class=\"data row1 col3\" >800.000000</td>\n",
       "      <td id=\"T_bd560_row1_col4\" class=\"data row1 col4\" >0.010000</td>\n",
       "    </tr>\n",
       "  </tbody>\n",
       "</table>\n"
      ],
      "text/plain": [
       "<pandas.io.formats.style.Styler at 0x7f93d3b0c520>"
      ]
     },
     "metadata": {},
     "output_type": "display_data"
    },
    {
     "name": "stdout",
     "output_type": "stream",
     "text": [
      "\n",
      "\n",
      "\n",
      "\n",
      "\n",
      "\n",
      "Construction system:\u001b[1mTRABE_CONCRETO\u001b[0m\n",
      "Total thickness    :0.3 m\n",
      "Total layers:[1]\n",
      "InsideAbsorpVis:[0.7]\n",
      "OutsideAbsorpVis:[0.7]\n",
      "OutsideAbsorpSolar:[0.7]\n",
      "InsideAbsorpThermal:[0.9]\n",
      "OutsideRoughness:[5]\n"
     ]
    },
    {
     "name": "stderr",
     "output_type": "stream",
     "text": [
      "/Users/gbv/opt/anaconda3/lib/python3.8/site-packages/iertools/read.py:163: FutureWarning: this method is deprecated in favour of `Styler.hide(axis='index')`\n",
      "  display(cs[properties].style.hide_index())\n"
     ]
    },
    {
     "data": {
      "text/html": [
       "<style type=\"text/css\">\n",
       "</style>\n",
       "<table id=\"T_1a00c\">\n",
       "  <thead>\n",
       "    <tr>\n",
       "      <th id=\"T_1a00c_level0_col0\" class=\"col_heading level0 col0\" >NameMaterial</th>\n",
       "      <th id=\"T_1a00c_level0_col1\" class=\"col_heading level0 col1\" >Conductivity</th>\n",
       "      <th id=\"T_1a00c_level0_col2\" class=\"col_heading level0 col2\" >Density</th>\n",
       "      <th id=\"T_1a00c_level0_col3\" class=\"col_heading level0 col3\" >SpecHeat</th>\n",
       "      <th id=\"T_1a00c_level0_col4\" class=\"col_heading level0 col4\" >Thickness</th>\n",
       "    </tr>\n",
       "  </thead>\n",
       "  <tbody>\n",
       "    <tr>\n",
       "      <td id=\"T_1a00c_row0_col0\" class=\"data row0 col0\" >CONCRETO_TRABE_L300_A70</td>\n",
       "      <td id=\"T_1a00c_row0_col1\" class=\"data row0 col1\" >2.000000</td>\n",
       "      <td id=\"T_1a00c_row0_col2\" class=\"data row0 col2\" >1800.000000</td>\n",
       "      <td id=\"T_1a00c_row0_col3\" class=\"data row0 col3\" >1000.000000</td>\n",
       "      <td id=\"T_1a00c_row0_col4\" class=\"data row0 col4\" >0.300000</td>\n",
       "    </tr>\n",
       "  </tbody>\n",
       "</table>\n"
      ],
      "text/plain": [
       "<pandas.io.formats.style.Styler at 0x7f93d3b0cd90>"
      ]
     },
     "metadata": {},
     "output_type": "display_data"
    },
    {
     "name": "stdout",
     "output_type": "stream",
     "text": [
      "\n",
      "\n",
      "\n",
      "\n",
      "\n",
      "\n",
      "Construction system:\u001b[1mM-06\u001b[0m\n",
      "Total thickness    :0.09 m\n",
      "Total layers:[3]\n",
      "InsideAbsorpVis:[0.3]\n",
      "OutsideAbsorpVis:[0.3]\n",
      "OutsideAbsorpSolar:[0.3]\n",
      "InsideAbsorpThermal:[0.9]\n",
      "OutsideRoughness:[5]\n"
     ]
    },
    {
     "name": "stderr",
     "output_type": "stream",
     "text": [
      "/Users/gbv/opt/anaconda3/lib/python3.8/site-packages/iertools/read.py:163: FutureWarning: this method is deprecated in favour of `Styler.hide(axis='index')`\n",
      "  display(cs[properties].style.hide_index())\n"
     ]
    },
    {
     "data": {
      "text/html": [
       "<style type=\"text/css\">\n",
       "</style>\n",
       "<table id=\"T_71466\">\n",
       "  <thead>\n",
       "    <tr>\n",
       "      <th id=\"T_71466_level0_col0\" class=\"col_heading level0 col0\" >NameMaterial</th>\n",
       "      <th id=\"T_71466_level0_col1\" class=\"col_heading level0 col1\" >Conductivity</th>\n",
       "      <th id=\"T_71466_level0_col2\" class=\"col_heading level0 col2\" >Density</th>\n",
       "      <th id=\"T_71466_level0_col3\" class=\"col_heading level0 col3\" >SpecHeat</th>\n",
       "      <th id=\"T_71466_level0_col4\" class=\"col_heading level0 col4\" >Thickness</th>\n",
       "    </tr>\n",
       "  </thead>\n",
       "  <tbody>\n",
       "    <tr>\n",
       "      <td id=\"T_71466_row0_col0\" class=\"data row0 col0\" >DUROCK_L13_A30</td>\n",
       "      <td id=\"T_71466_row0_col1\" class=\"data row0 col1\" >0.029000</td>\n",
       "      <td id=\"T_71466_row0_col2\" class=\"data row0 col2\" >1920.000000</td>\n",
       "      <td id=\"T_71466_row0_col3\" class=\"data row0 col3\" >670.000000</td>\n",
       "      <td id=\"T_71466_row0_col4\" class=\"data row0 col4\" >0.013000</td>\n",
       "    </tr>\n",
       "    <tr>\n",
       "      <td id=\"T_71466_row1_col0\" class=\"data row1 col0\" >LANA_L64</td>\n",
       "      <td id=\"T_71466_row1_col1\" class=\"data row1 col1\" >0.045000</td>\n",
       "      <td id=\"T_71466_row1_col2\" class=\"data row1 col2\" >10.000000</td>\n",
       "      <td id=\"T_71466_row1_col3\" class=\"data row1 col3\" >700.000000</td>\n",
       "      <td id=\"T_71466_row1_col4\" class=\"data row1 col4\" >0.064000</td>\n",
       "    </tr>\n",
       "    <tr>\n",
       "      <td id=\"T_71466_row2_col0\" class=\"data row2 col0\" >DUROCK_L13_A30</td>\n",
       "      <td id=\"T_71466_row2_col1\" class=\"data row2 col1\" >0.029000</td>\n",
       "      <td id=\"T_71466_row2_col2\" class=\"data row2 col2\" >1920.000000</td>\n",
       "      <td id=\"T_71466_row2_col3\" class=\"data row2 col3\" >670.000000</td>\n",
       "      <td id=\"T_71466_row2_col4\" class=\"data row2 col4\" >0.013000</td>\n",
       "    </tr>\n",
       "  </tbody>\n",
       "</table>\n"
      ],
      "text/plain": [
       "<pandas.io.formats.style.Styler at 0x7f93d3b0c1c0>"
      ]
     },
     "metadata": {},
     "output_type": "display_data"
    },
    {
     "name": "stdout",
     "output_type": "stream",
     "text": [
      "\n",
      "\n",
      "\n",
      "\n",
      "\n",
      "\n",
      "Construction system:\u001b[1mM-08\u001b[0m\n",
      "Total thickness    :0.167 m\n",
      "Total layers:[5]\n",
      "InsideAbsorpVis:[0.3]\n",
      "OutsideAbsorpVis:[0.3]\n",
      "OutsideAbsorpSolar:[0.3]\n",
      "InsideAbsorpThermal:[0.9]\n",
      "OutsideRoughness:[5]\n"
     ]
    },
    {
     "name": "stderr",
     "output_type": "stream",
     "text": [
      "/Users/gbv/opt/anaconda3/lib/python3.8/site-packages/iertools/read.py:163: FutureWarning: this method is deprecated in favour of `Styler.hide(axis='index')`\n",
      "  display(cs[properties].style.hide_index())\n"
     ]
    },
    {
     "data": {
      "text/html": [
       "<style type=\"text/css\">\n",
       "</style>\n",
       "<table id=\"T_b3677\">\n",
       "  <thead>\n",
       "    <tr>\n",
       "      <th id=\"T_b3677_level0_col0\" class=\"col_heading level0 col0\" >NameMaterial</th>\n",
       "      <th id=\"T_b3677_level0_col1\" class=\"col_heading level0 col1\" >Conductivity</th>\n",
       "      <th id=\"T_b3677_level0_col2\" class=\"col_heading level0 col2\" >Density</th>\n",
       "      <th id=\"T_b3677_level0_col3\" class=\"col_heading level0 col3\" >SpecHeat</th>\n",
       "      <th id=\"T_b3677_level0_col4\" class=\"col_heading level0 col4\" >Thickness</th>\n",
       "    </tr>\n",
       "  </thead>\n",
       "  <tbody>\n",
       "    <tr>\n",
       "      <td id=\"T_b3677_row0_col0\" class=\"data row0 col0\" >DUROCK_L13_A30</td>\n",
       "      <td id=\"T_b3677_row0_col1\" class=\"data row0 col1\" >0.029000</td>\n",
       "      <td id=\"T_b3677_row0_col2\" class=\"data row0 col2\" >1920.000000</td>\n",
       "      <td id=\"T_b3677_row0_col3\" class=\"data row0 col3\" >670.000000</td>\n",
       "      <td id=\"T_b3677_row0_col4\" class=\"data row0 col4\" >0.013000</td>\n",
       "    </tr>\n",
       "    <tr>\n",
       "      <td id=\"T_b3677_row1_col0\" class=\"data row1 col0\" >LANA_L64</td>\n",
       "      <td id=\"T_b3677_row1_col1\" class=\"data row1 col1\" >0.045000</td>\n",
       "      <td id=\"T_b3677_row1_col2\" class=\"data row1 col2\" >10.000000</td>\n",
       "      <td id=\"T_b3677_row1_col3\" class=\"data row1 col3\" >700.000000</td>\n",
       "      <td id=\"T_b3677_row1_col4\" class=\"data row1 col4\" >0.064000</td>\n",
       "    </tr>\n",
       "    <tr>\n",
       "      <td id=\"T_b3677_row2_col0\" class=\"data row2 col0\" >DUROCK_L13_A30</td>\n",
       "      <td id=\"T_b3677_row2_col1\" class=\"data row2 col1\" >0.029000</td>\n",
       "      <td id=\"T_b3677_row2_col2\" class=\"data row2 col2\" >1920.000000</td>\n",
       "      <td id=\"T_b3677_row2_col3\" class=\"data row2 col3\" >670.000000</td>\n",
       "      <td id=\"T_b3677_row2_col4\" class=\"data row2 col4\" >0.013000</td>\n",
       "    </tr>\n",
       "    <tr>\n",
       "      <td id=\"T_b3677_row3_col0\" class=\"data row3 col0\" >LANA_L64</td>\n",
       "      <td id=\"T_b3677_row3_col1\" class=\"data row3 col1\" >0.045000</td>\n",
       "      <td id=\"T_b3677_row3_col2\" class=\"data row3 col2\" >10.000000</td>\n",
       "      <td id=\"T_b3677_row3_col3\" class=\"data row3 col3\" >700.000000</td>\n",
       "      <td id=\"T_b3677_row3_col4\" class=\"data row3 col4\" >0.064000</td>\n",
       "    </tr>\n",
       "    <tr>\n",
       "      <td id=\"T_b3677_row4_col0\" class=\"data row4 col0\" >DUROCK_L13_A30</td>\n",
       "      <td id=\"T_b3677_row4_col1\" class=\"data row4 col1\" >0.029000</td>\n",
       "      <td id=\"T_b3677_row4_col2\" class=\"data row4 col2\" >1920.000000</td>\n",
       "      <td id=\"T_b3677_row4_col3\" class=\"data row4 col3\" >670.000000</td>\n",
       "      <td id=\"T_b3677_row4_col4\" class=\"data row4 col4\" >0.013000</td>\n",
       "    </tr>\n",
       "  </tbody>\n",
       "</table>\n"
      ],
      "text/plain": [
       "<pandas.io.formats.style.Styler at 0x7f93d3b0c430>"
      ]
     },
     "metadata": {},
     "output_type": "display_data"
    },
    {
     "name": "stdout",
     "output_type": "stream",
     "text": [
      "\n",
      "\n",
      "\n",
      "\n",
      "\n",
      "\n",
      "Construction system:\u001b[1mCIELOFALSO\u001b[0m\n",
      "Total thickness    :0.025 m\n",
      "Total layers:[1]\n",
      "InsideAbsorpVis:[0.3]\n",
      "OutsideAbsorpVis:[0.3]\n",
      "OutsideAbsorpSolar:[0.3]\n",
      "InsideAbsorpThermal:[0.9]\n",
      "OutsideRoughness:[4]\n"
     ]
    },
    {
     "name": "stderr",
     "output_type": "stream",
     "text": [
      "/Users/gbv/opt/anaconda3/lib/python3.8/site-packages/iertools/read.py:163: FutureWarning: this method is deprecated in favour of `Styler.hide(axis='index')`\n",
      "  display(cs[properties].style.hide_index())\n"
     ]
    },
    {
     "data": {
      "text/html": [
       "<style type=\"text/css\">\n",
       "</style>\n",
       "<table id=\"T_c37bc\">\n",
       "  <thead>\n",
       "    <tr>\n",
       "      <th id=\"T_c37bc_level0_col0\" class=\"col_heading level0 col0\" >NameMaterial</th>\n",
       "      <th id=\"T_c37bc_level0_col1\" class=\"col_heading level0 col1\" >Conductivity</th>\n",
       "      <th id=\"T_c37bc_level0_col2\" class=\"col_heading level0 col2\" >Density</th>\n",
       "      <th id=\"T_c37bc_level0_col3\" class=\"col_heading level0 col3\" >SpecHeat</th>\n",
       "      <th id=\"T_c37bc_level0_col4\" class=\"col_heading level0 col4\" >Thickness</th>\n",
       "    </tr>\n",
       "  </thead>\n",
       "  <tbody>\n",
       "    <tr>\n",
       "      <td id=\"T_c37bc_row0_col0\" class=\"data row0 col0\" >F16ACOUSTICTILE_L25_A30</td>\n",
       "      <td id=\"T_c37bc_row0_col1\" class=\"data row0 col1\" >0.060000</td>\n",
       "      <td id=\"T_c37bc_row0_col2\" class=\"data row0 col2\" >368.000000</td>\n",
       "      <td id=\"T_c37bc_row0_col3\" class=\"data row0 col3\" >590.000000</td>\n",
       "      <td id=\"T_c37bc_row0_col4\" class=\"data row0 col4\" >0.025000</td>\n",
       "    </tr>\n",
       "  </tbody>\n",
       "</table>\n"
      ],
      "text/plain": [
       "<pandas.io.formats.style.Styler at 0x7f93d3b0ce80>"
      ]
     },
     "metadata": {},
     "output_type": "display_data"
    },
    {
     "name": "stdout",
     "output_type": "stream",
     "text": [
      "\n",
      "\n",
      "\n",
      "\n",
      "\n",
      "\n",
      "Construction system:\u001b[1mMDF\u001b[0m\n",
      "Total thickness    :0.02 m\n",
      "Total layers:[1]\n",
      "InsideAbsorpVis:[0.3]\n",
      "OutsideAbsorpVis:[0.3]\n",
      "OutsideAbsorpSolar:[0.3]\n",
      "InsideAbsorpThermal:[0.9]\n",
      "OutsideRoughness:[5]\n"
     ]
    },
    {
     "name": "stderr",
     "output_type": "stream",
     "text": [
      "/Users/gbv/opt/anaconda3/lib/python3.8/site-packages/iertools/read.py:163: FutureWarning: this method is deprecated in favour of `Styler.hide(axis='index')`\n",
      "  display(cs[properties].style.hide_index())\n"
     ]
    },
    {
     "data": {
      "text/html": [
       "<style type=\"text/css\">\n",
       "</style>\n",
       "<table id=\"T_a9355\">\n",
       "  <thead>\n",
       "    <tr>\n",
       "      <th id=\"T_a9355_level0_col0\" class=\"col_heading level0 col0\" >NameMaterial</th>\n",
       "      <th id=\"T_a9355_level0_col1\" class=\"col_heading level0 col1\" >Conductivity</th>\n",
       "      <th id=\"T_a9355_level0_col2\" class=\"col_heading level0 col2\" >Density</th>\n",
       "      <th id=\"T_a9355_level0_col3\" class=\"col_heading level0 col3\" >SpecHeat</th>\n",
       "      <th id=\"T_a9355_level0_col4\" class=\"col_heading level0 col4\" >Thickness</th>\n",
       "    </tr>\n",
       "  </thead>\n",
       "  <tbody>\n",
       "    <tr>\n",
       "      <td id=\"T_a9355_row0_col0\" class=\"data row0 col0\" >MADERA_L20_A30</td>\n",
       "      <td id=\"T_a9355_row0_col1\" class=\"data row0 col1\" >0.140000</td>\n",
       "      <td id=\"T_a9355_row0_col2\" class=\"data row0 col2\" >600.000000</td>\n",
       "      <td id=\"T_a9355_row0_col3\" class=\"data row0 col3\" >1210.000000</td>\n",
       "      <td id=\"T_a9355_row0_col4\" class=\"data row0 col4\" >0.020000</td>\n",
       "    </tr>\n",
       "  </tbody>\n",
       "</table>\n"
      ],
      "text/plain": [
       "<pandas.io.formats.style.Styler at 0x7f93faa09550>"
      ]
     },
     "metadata": {},
     "output_type": "display_data"
    },
    {
     "name": "stdout",
     "output_type": "stream",
     "text": [
      "\n",
      "\n",
      "\n",
      "\n",
      "\n",
      "\n",
      "Construction system:\u001b[1mPUERTA METALICA\u001b[0m\n",
      "Total thickness    :0.08 m\n",
      "Total layers:[1]\n",
      "InsideAbsorpVis:[0.4]\n",
      "OutsideAbsorpVis:[0.4]\n",
      "OutsideAbsorpSolar:[0.4]\n",
      "InsideAbsorpThermal:[0.9]\n",
      "OutsideRoughness:[5]\n"
     ]
    },
    {
     "name": "stderr",
     "output_type": "stream",
     "text": [
      "/Users/gbv/opt/anaconda3/lib/python3.8/site-packages/iertools/read.py:163: FutureWarning: this method is deprecated in favour of `Styler.hide(axis='index')`\n",
      "  display(cs[properties].style.hide_index())\n"
     ]
    },
    {
     "data": {
      "text/html": [
       "<style type=\"text/css\">\n",
       "</style>\n",
       "<table id=\"T_bbe7f\">\n",
       "  <thead>\n",
       "    <tr>\n",
       "      <th id=\"T_bbe7f_level0_col0\" class=\"col_heading level0 col0\" >NameMaterial</th>\n",
       "      <th id=\"T_bbe7f_level0_col1\" class=\"col_heading level0 col1\" >Conductivity</th>\n",
       "      <th id=\"T_bbe7f_level0_col2\" class=\"col_heading level0 col2\" >Density</th>\n",
       "      <th id=\"T_bbe7f_level0_col3\" class=\"col_heading level0 col3\" >SpecHeat</th>\n",
       "      <th id=\"T_bbe7f_level0_col4\" class=\"col_heading level0 col4\" >Thickness</th>\n",
       "    </tr>\n",
       "  </thead>\n",
       "  <tbody>\n",
       "    <tr>\n",
       "      <td id=\"T_bbe7f_row0_col0\" class=\"data row0 col0\" >METALDECKING_L80_A40</td>\n",
       "      <td id=\"T_bbe7f_row0_col1\" class=\"data row0 col1\" >45.006000</td>\n",
       "      <td id=\"T_bbe7f_row0_col2\" class=\"data row0 col2\" >7680.000000</td>\n",
       "      <td id=\"T_bbe7f_row0_col3\" class=\"data row0 col3\" >418.400000</td>\n",
       "      <td id=\"T_bbe7f_row0_col4\" class=\"data row0 col4\" >0.080000</td>\n",
       "    </tr>\n",
       "  </tbody>\n",
       "</table>\n"
      ],
      "text/plain": [
       "<pandas.io.formats.style.Styler at 0x7f93ec6afbe0>"
      ]
     },
     "metadata": {},
     "output_type": "display_data"
    },
    {
     "name": "stderr",
     "output_type": "stream",
     "text": [
      "/Users/gbv/opt/anaconda3/lib/python3.8/site-packages/iertools/read.py:163: FutureWarning: this method is deprecated in favour of `Styler.hide(axis='index')`\n",
      "  display(cs[properties].style.hide_index())\n"
     ]
    },
    {
     "name": "stdout",
     "output_type": "stream",
     "text": [
      "\n",
      "\n",
      "\n",
      "\n",
      "\n",
      "\n",
      "Construction system:\u001b[1mM-05\u001b[0m\n",
      "Total thickness    :0.14 m\n",
      "Total layers:[3]\n",
      "InsideAbsorpVis:[0.3]\n",
      "OutsideAbsorpVis:[0.3]\n",
      "OutsideAbsorpSolar:[0.3]\n",
      "InsideAbsorpThermal:[0.9]\n",
      "OutsideRoughness:[3]\n"
     ]
    },
    {
     "data": {
      "text/html": [
       "<style type=\"text/css\">\n",
       "</style>\n",
       "<table id=\"T_3e85f\">\n",
       "  <thead>\n",
       "    <tr>\n",
       "      <th id=\"T_3e85f_level0_col0\" class=\"col_heading level0 col0\" >NameMaterial</th>\n",
       "      <th id=\"T_3e85f_level0_col1\" class=\"col_heading level0 col1\" >Conductivity</th>\n",
       "      <th id=\"T_3e85f_level0_col2\" class=\"col_heading level0 col2\" >Density</th>\n",
       "      <th id=\"T_3e85f_level0_col3\" class=\"col_heading level0 col3\" >SpecHeat</th>\n",
       "      <th id=\"T_3e85f_level0_col4\" class=\"col_heading level0 col4\" >Thickness</th>\n",
       "    </tr>\n",
       "  </thead>\n",
       "  <tbody>\n",
       "    <tr>\n",
       "      <td id=\"T_3e85f_row0_col0\" class=\"data row0 col0\" >TABIQUE_HUECO_C1_L20_A30</td>\n",
       "      <td id=\"T_3e85f_row0_col1\" class=\"data row0 col1\" >0.700000</td>\n",
       "      <td id=\"T_3e85f_row0_col2\" class=\"data row0 col2\" >1715.480000</td>\n",
       "      <td id=\"T_3e85f_row0_col3\" class=\"data row0 col3\" >800.000000</td>\n",
       "      <td id=\"T_3e85f_row0_col4\" class=\"data row0 col4\" >0.025400</td>\n",
       "    </tr>\n",
       "    <tr>\n",
       "      <td id=\"T_3e85f_row1_col0\" class=\"data row1 col0\" >TABIQUE_HUECO_C2_L100</td>\n",
       "      <td id=\"T_3e85f_row1_col1\" class=\"data row1 col1\" >0.233000</td>\n",
       "      <td id=\"T_3e85f_row1_col2\" class=\"data row1 col2\" >526.100000</td>\n",
       "      <td id=\"T_3e85f_row1_col3\" class=\"data row1 col3\" >942.160000</td>\n",
       "      <td id=\"T_3e85f_row1_col4\" class=\"data row1 col4\" >0.089200</td>\n",
       "    </tr>\n",
       "    <tr>\n",
       "      <td id=\"T_3e85f_row2_col0\" class=\"data row2 col0\" >TABIQUE_HUECO_C3_L20_A30</td>\n",
       "      <td id=\"T_3e85f_row2_col1\" class=\"data row2 col1\" >0.700000</td>\n",
       "      <td id=\"T_3e85f_row2_col2\" class=\"data row2 col2\" >1715.480000</td>\n",
       "      <td id=\"T_3e85f_row2_col3\" class=\"data row2 col3\" >800.000000</td>\n",
       "      <td id=\"T_3e85f_row2_col4\" class=\"data row2 col4\" >0.025400</td>\n",
       "    </tr>\n",
       "  </tbody>\n",
       "</table>\n"
      ],
      "text/plain": [
       "<pandas.io.formats.style.Styler at 0x7f93faa09070>"
      ]
     },
     "metadata": {},
     "output_type": "display_data"
    },
    {
     "name": "stdout",
     "output_type": "stream",
     "text": [
      "\n",
      "\n",
      "\n",
      "\n",
      "\n",
      "\n",
      "Construction system:\u001b[1mM-05 REVERSED\u001b[0m\n",
      "Total thickness    :0.14 m\n",
      "Total layers:[3]\n",
      "InsideAbsorpVis:[0.3]\n",
      "OutsideAbsorpVis:[0.3]\n",
      "OutsideAbsorpSolar:[0.3]\n",
      "InsideAbsorpThermal:[0.9]\n",
      "OutsideRoughness:[3]\n"
     ]
    },
    {
     "name": "stderr",
     "output_type": "stream",
     "text": [
      "/Users/gbv/opt/anaconda3/lib/python3.8/site-packages/iertools/read.py:163: FutureWarning: this method is deprecated in favour of `Styler.hide(axis='index')`\n",
      "  display(cs[properties].style.hide_index())\n"
     ]
    },
    {
     "data": {
      "text/html": [
       "<style type=\"text/css\">\n",
       "</style>\n",
       "<table id=\"T_0832d\">\n",
       "  <thead>\n",
       "    <tr>\n",
       "      <th id=\"T_0832d_level0_col0\" class=\"col_heading level0 col0\" >NameMaterial</th>\n",
       "      <th id=\"T_0832d_level0_col1\" class=\"col_heading level0 col1\" >Conductivity</th>\n",
       "      <th id=\"T_0832d_level0_col2\" class=\"col_heading level0 col2\" >Density</th>\n",
       "      <th id=\"T_0832d_level0_col3\" class=\"col_heading level0 col3\" >SpecHeat</th>\n",
       "      <th id=\"T_0832d_level0_col4\" class=\"col_heading level0 col4\" >Thickness</th>\n",
       "    </tr>\n",
       "  </thead>\n",
       "  <tbody>\n",
       "    <tr>\n",
       "      <td id=\"T_0832d_row0_col0\" class=\"data row0 col0\" >TABIQUE_HUECO_C3_L20_A30</td>\n",
       "      <td id=\"T_0832d_row0_col1\" class=\"data row0 col1\" >0.700000</td>\n",
       "      <td id=\"T_0832d_row0_col2\" class=\"data row0 col2\" >1715.480000</td>\n",
       "      <td id=\"T_0832d_row0_col3\" class=\"data row0 col3\" >800.000000</td>\n",
       "      <td id=\"T_0832d_row0_col4\" class=\"data row0 col4\" >0.025400</td>\n",
       "    </tr>\n",
       "    <tr>\n",
       "      <td id=\"T_0832d_row1_col0\" class=\"data row1 col0\" >TABIQUE_HUECO_C2_L100</td>\n",
       "      <td id=\"T_0832d_row1_col1\" class=\"data row1 col1\" >0.233000</td>\n",
       "      <td id=\"T_0832d_row1_col2\" class=\"data row1 col2\" >526.100000</td>\n",
       "      <td id=\"T_0832d_row1_col3\" class=\"data row1 col3\" >942.160000</td>\n",
       "      <td id=\"T_0832d_row1_col4\" class=\"data row1 col4\" >0.089200</td>\n",
       "    </tr>\n",
       "    <tr>\n",
       "      <td id=\"T_0832d_row2_col0\" class=\"data row2 col0\" >TABIQUE_HUECO_C1_L20_A30</td>\n",
       "      <td id=\"T_0832d_row2_col1\" class=\"data row2 col1\" >0.700000</td>\n",
       "      <td id=\"T_0832d_row2_col2\" class=\"data row2 col2\" >1715.480000</td>\n",
       "      <td id=\"T_0832d_row2_col3\" class=\"data row2 col3\" >800.000000</td>\n",
       "      <td id=\"T_0832d_row2_col4\" class=\"data row2 col4\" >0.025400</td>\n",
       "    </tr>\n",
       "  </tbody>\n",
       "</table>\n"
      ],
      "text/plain": [
       "<pandas.io.formats.style.Styler at 0x7f93faa09040>"
      ]
     },
     "metadata": {},
     "output_type": "display_data"
    },
    {
     "name": "stdout",
     "output_type": "stream",
     "text": [
      "\n",
      "\n",
      "\n",
      "\n",
      "\n",
      "\n",
      "Construction system:\u001b[1mVENTANA_10MM\u001b[0m\n",
      "Total thickness    :0.0099 m\n",
      "Total layers:[1]\n",
      "InsideAbsorpVis:[0.]\n",
      "OutsideAbsorpVis:[0.]\n",
      "OutsideAbsorpSolar:[0.]\n",
      "InsideAbsorpThermal:[0.84]\n",
      "OutsideRoughness:[6]\n"
     ]
    },
    {
     "name": "stderr",
     "output_type": "stream",
     "text": [
      "/Users/gbv/opt/anaconda3/lib/python3.8/site-packages/iertools/read.py:163: FutureWarning: this method is deprecated in favour of `Styler.hide(axis='index')`\n",
      "  display(cs[properties].style.hide_index())\n"
     ]
    },
    {
     "data": {
      "text/html": [
       "<style type=\"text/css\">\n",
       "</style>\n",
       "<table id=\"T_344e8\">\n",
       "  <thead>\n",
       "    <tr>\n",
       "      <th id=\"T_344e8_level0_col0\" class=\"col_heading level0 col0\" >NameMaterial</th>\n",
       "      <th id=\"T_344e8_level0_col1\" class=\"col_heading level0 col1\" >Conductivity</th>\n",
       "      <th id=\"T_344e8_level0_col2\" class=\"col_heading level0 col2\" >Density</th>\n",
       "      <th id=\"T_344e8_level0_col3\" class=\"col_heading level0 col3\" >SpecHeat</th>\n",
       "      <th id=\"T_344e8_level0_col4\" class=\"col_heading level0 col4\" >Thickness</th>\n",
       "    </tr>\n",
       "  </thead>\n",
       "  <tbody>\n",
       "    <tr>\n",
       "      <td id=\"T_344e8_row0_col0\" class=\"data row0 col0\" >ID122_VIDRIO10MM</td>\n",
       "      <td id=\"T_344e8_row0_col1\" class=\"data row0 col1\" >1.000000</td>\n",
       "      <td id=\"T_344e8_row0_col2\" class=\"data row0 col2\" >0.000000</td>\n",
       "      <td id=\"T_344e8_row0_col3\" class=\"data row0 col3\" >0.000000</td>\n",
       "      <td id=\"T_344e8_row0_col4\" class=\"data row0 col4\" >0.009900</td>\n",
       "    </tr>\n",
       "  </tbody>\n",
       "</table>\n"
      ],
      "text/plain": [
       "<pandas.io.formats.style.Styler at 0x7f93faa09eb0>"
      ]
     },
     "metadata": {},
     "output_type": "display_data"
    },
    {
     "name": "stdout",
     "output_type": "stream",
     "text": [
      "\n",
      "\n",
      "\n",
      "\n",
      "\n",
      "\n",
      "Construction system:\u001b[1mVENTANA_6MM\u001b[0m\n",
      "Total thickness    :0.0057 m\n",
      "Total layers:[1]\n",
      "InsideAbsorpVis:[0.]\n",
      "OutsideAbsorpVis:[0.]\n",
      "OutsideAbsorpSolar:[0.]\n",
      "InsideAbsorpThermal:[0.84]\n",
      "OutsideRoughness:[6]\n"
     ]
    },
    {
     "name": "stderr",
     "output_type": "stream",
     "text": [
      "/Users/gbv/opt/anaconda3/lib/python3.8/site-packages/iertools/read.py:163: FutureWarning: this method is deprecated in favour of `Styler.hide(axis='index')`\n",
      "  display(cs[properties].style.hide_index())\n"
     ]
    },
    {
     "data": {
      "text/html": [
       "<style type=\"text/css\">\n",
       "</style>\n",
       "<table id=\"T_7c1e5\">\n",
       "  <thead>\n",
       "    <tr>\n",
       "      <th id=\"T_7c1e5_level0_col0\" class=\"col_heading level0 col0\" >NameMaterial</th>\n",
       "      <th id=\"T_7c1e5_level0_col1\" class=\"col_heading level0 col1\" >Conductivity</th>\n",
       "      <th id=\"T_7c1e5_level0_col2\" class=\"col_heading level0 col2\" >Density</th>\n",
       "      <th id=\"T_7c1e5_level0_col3\" class=\"col_heading level0 col3\" >SpecHeat</th>\n",
       "      <th id=\"T_7c1e5_level0_col4\" class=\"col_heading level0 col4\" >Thickness</th>\n",
       "    </tr>\n",
       "  </thead>\n",
       "  <tbody>\n",
       "    <tr>\n",
       "      <td id=\"T_7c1e5_row0_col0\" class=\"data row0 col0\" >ID5012_VIDRIO6MM</td>\n",
       "      <td id=\"T_7c1e5_row0_col1\" class=\"data row0 col1\" >1.000000</td>\n",
       "      <td id=\"T_7c1e5_row0_col2\" class=\"data row0 col2\" >0.000000</td>\n",
       "      <td id=\"T_7c1e5_row0_col3\" class=\"data row0 col3\" >0.000000</td>\n",
       "      <td id=\"T_7c1e5_row0_col4\" class=\"data row0 col4\" >0.005664</td>\n",
       "    </tr>\n",
       "  </tbody>\n",
       "</table>\n"
      ],
      "text/plain": [
       "<pandas.io.formats.style.Styler at 0x7f93faa09df0>"
      ]
     },
     "metadata": {},
     "output_type": "display_data"
    },
    {
     "name": "stdout",
     "output_type": "stream",
     "text": [
      "\n",
      "\n",
      "\n",
      "\n",
      "\n",
      "\n",
      "Construction system:\u001b[1mAPERTURA\u001b[0m\n",
      "Total thickness    :0.002 m\n",
      "Total layers:[1]\n",
      "InsideAbsorpVis:[0.]\n",
      "OutsideAbsorpVis:[0.]\n",
      "OutsideAbsorpSolar:[0.]\n",
      "InsideAbsorpThermal:[0.84]\n",
      "OutsideRoughness:[6]\n"
     ]
    },
    {
     "name": "stderr",
     "output_type": "stream",
     "text": [
      "/Users/gbv/opt/anaconda3/lib/python3.8/site-packages/iertools/read.py:163: FutureWarning: this method is deprecated in favour of `Styler.hide(axis='index')`\n",
      "  display(cs[properties].style.hide_index())\n"
     ]
    },
    {
     "data": {
      "text/html": [
       "<style type=\"text/css\">\n",
       "</style>\n",
       "<table id=\"T_acdf7\">\n",
       "  <thead>\n",
       "    <tr>\n",
       "      <th id=\"T_acdf7_level0_col0\" class=\"col_heading level0 col0\" >NameMaterial</th>\n",
       "      <th id=\"T_acdf7_level0_col1\" class=\"col_heading level0 col1\" >Conductivity</th>\n",
       "      <th id=\"T_acdf7_level0_col2\" class=\"col_heading level0 col2\" >Density</th>\n",
       "      <th id=\"T_acdf7_level0_col3\" class=\"col_heading level0 col3\" >SpecHeat</th>\n",
       "      <th id=\"T_acdf7_level0_col4\" class=\"col_heading level0 col4\" >Thickness</th>\n",
       "    </tr>\n",
       "  </thead>\n",
       "  <tbody>\n",
       "    <tr>\n",
       "      <td id=\"T_acdf7_row0_col0\" class=\"data row0 col0\" >VENTANA_DE_AIRE</td>\n",
       "      <td id=\"T_acdf7_row0_col1\" class=\"data row0 col1\" >0.405710</td>\n",
       "      <td id=\"T_acdf7_row0_col2\" class=\"data row0 col2\" >0.000000</td>\n",
       "      <td id=\"T_acdf7_row0_col3\" class=\"data row0 col3\" >0.000000</td>\n",
       "      <td id=\"T_acdf7_row0_col4\" class=\"data row0 col4\" >0.002000</td>\n",
       "    </tr>\n",
       "  </tbody>\n",
       "</table>\n"
      ],
      "text/plain": [
       "<pandas.io.formats.style.Styler at 0x7f93faa098b0>"
      ]
     },
     "metadata": {},
     "output_type": "display_data"
    },
    {
     "name": "stdout",
     "output_type": "stream",
     "text": [
      "\n",
      "\n",
      "\n",
      "\n"
     ]
    }
   ],
   "source": [
    "my_sql.get_construction(cs)"
   ]
  },
  {
   "cell_type": "code",
   "execution_count": 23,
   "metadata": {
    "scrolled": false
   },
   "outputs": [
    {
     "name": "stdout",
     "output_type": "stream",
     "text": [
      "\n",
      "\n",
      "Construction system:\u001b[1mPS-05\u001b[0m\n",
      "Total thickness    :0.445 m\n",
      "Total layers:[3]\n",
      "InsideAbsorpVis:[0.7]\n",
      "OutsideAbsorpVis:[0.3]\n",
      "OutsideAbsorpSolar:[0.3]\n",
      "InsideAbsorpThermal:[0.9]\n",
      "OutsideRoughness:[1]\n"
     ]
    },
    {
     "name": "stderr",
     "output_type": "stream",
     "text": [
      "/Users/gbv/opt/anaconda3/lib/python3.8/site-packages/iertools/read.py:163: FutureWarning: this method is deprecated in favour of `Styler.hide(axis='index')`\n",
      "  display(cs[properties].style.hide_index())\n"
     ]
    },
    {
     "data": {
      "text/html": [
       "<style type=\"text/css\">\n",
       "</style>\n",
       "<table id=\"T_9fc6d\">\n",
       "  <thead>\n",
       "    <tr>\n",
       "      <th id=\"T_9fc6d_level0_col0\" class=\"col_heading level0 col0\" >NameMaterial</th>\n",
       "      <th id=\"T_9fc6d_level0_col1\" class=\"col_heading level0 col1\" >Conductivity</th>\n",
       "      <th id=\"T_9fc6d_level0_col2\" class=\"col_heading level0 col2\" >Density</th>\n",
       "      <th id=\"T_9fc6d_level0_col3\" class=\"col_heading level0 col3\" >SpecHeat</th>\n",
       "      <th id=\"T_9fc6d_level0_col4\" class=\"col_heading level0 col4\" >Thickness</th>\n",
       "    </tr>\n",
       "  </thead>\n",
       "  <tbody>\n",
       "    <tr>\n",
       "      <td id=\"T_9fc6d_row0_col0\" class=\"data row0 col0\" >IMPERMEABILIZANTE_L5_A30</td>\n",
       "      <td id=\"T_9fc6d_row0_col1\" class=\"data row0 col1\" >0.160000</td>\n",
       "      <td id=\"T_9fc6d_row0_col2\" class=\"data row0 col2\" >1121.290000</td>\n",
       "      <td id=\"T_9fc6d_row0_col3\" class=\"data row0 col3\" >1460.000000</td>\n",
       "      <td id=\"T_9fc6d_row0_col4\" class=\"data row0 col4\" >0.005000</td>\n",
       "    </tr>\n",
       "    <tr>\n",
       "      <td id=\"T_9fc6d_row1_col0\" class=\"data row1 col0\" >VERMICULITA_L270</td>\n",
       "      <td id=\"T_9fc6d_row1_col1\" class=\"data row1 col1\" >0.190000</td>\n",
       "      <td id=\"T_9fc6d_row1_col2\" class=\"data row1 col2\" >700.000000</td>\n",
       "      <td id=\"T_9fc6d_row1_col3\" class=\"data row1 col3\" >800.000000</td>\n",
       "      <td id=\"T_9fc6d_row1_col4\" class=\"data row1 col4\" >0.270000</td>\n",
       "    </tr>\n",
       "    <tr>\n",
       "      <td id=\"T_9fc6d_row2_col0\" class=\"data row2 col0\" >CONCRETO_FC250_L170</td>\n",
       "      <td id=\"T_9fc6d_row2_col1\" class=\"data row2 col1\" >2.000000</td>\n",
       "      <td id=\"T_9fc6d_row2_col2\" class=\"data row2 col2\" >2400.000000</td>\n",
       "      <td id=\"T_9fc6d_row2_col3\" class=\"data row2 col3\" >1000.000000</td>\n",
       "      <td id=\"T_9fc6d_row2_col4\" class=\"data row2 col4\" >0.170000</td>\n",
       "    </tr>\n",
       "  </tbody>\n",
       "</table>\n"
      ],
      "text/plain": [
       "<pandas.io.formats.style.Styler at 0x7f93fa9e8a30>"
      ]
     },
     "metadata": {},
     "output_type": "display_data"
    },
    {
     "name": "stdout",
     "output_type": "stream",
     "text": [
      "\n",
      "\n",
      "\n",
      "\n"
     ]
    }
   ],
   "source": [
    "my_sql.get_construction(['PS-05']) # items should be passed as lists"
   ]
  },
  {
   "cell_type": "code",
   "execution_count": 24,
   "metadata": {},
   "outputs": [
    {
     "data": {
      "image/png": "[encoded data removed]",
      "text/plain": [
       "<Figure size 864x864 with 5 Axes>"
      ]
     },
     "metadata": {
      "needs_background": "light"
     },
     "output_type": "display_data"
    }
   ],
   "source": [
    "variables = ['To',\"Ti\"]\n",
    "caso1 = my_sql.get_data(variables)\n",
    "caso1.plot(subplots=True,figsize=(12,12));"
   ]
  },
  {
   "cell_type": "code",
   "execution_count": null,
   "metadata": {},
   "outputs": [],
   "source": []
  }
 ],
 "metadata": {
  "kernelspec": {
   "display_name": "Python 3",
   "language": "python",
   "name": "python3"
  },
  "language_info": {
   "codemirror_mode": {
    "name": "ipython",
    "version": 3
   },
   "file_extension": ".py",
   "mimetype": "text/x-python",
   "name": "python",
   "nbconvert_exporter": "python",
   "pygments_lexer": "ipython3",
   "version": "3.8.5"
  }
 },
 "nbformat": 4,
 "nbformat_minor": 4
}
