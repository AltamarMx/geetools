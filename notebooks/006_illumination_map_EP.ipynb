{
 "cells": [
  {
   "cell_type": "markdown",
   "metadata": {},
   "source": [
    "# GEE TOOLS\n",
    "## 6 - Mapa de iluminación\n",
    "Extrae los datos del archivo de resultados de mapas de iluminación de EnergyPlus&reg;. Este notebook contiene inicialmente el código a implementar para leer estos archivos, después se utilizará para mostrar su funcionamiento con ejemplos."
   ]
  },
  {
   "cell_type": "code",
   "execution_count": 29,
   "metadata": {},
   "outputs": [],
   "source": [
    "import pandas as pd\n",
    "from datetime import datetime\n",
    "import seaborn as sbn"
   ]
  },
  {
   "cell_type": "markdown",
   "metadata": {},
   "source": [
    "## 6.1 - Clase IlluMap\n",
    "Con la que se recopilará la información del archivo de salida de EnergyPlus, se organizará por nombre de mapa de iluminación, y cada uno tendrá los dataframe en un diccionario con fechas como llave.\n",
    "PENDIENTE:\n",
    "- Función para tomar archivo y crear ejemplares de IlluMap con los datos por cada Illumination Map que tenga el archivo (será un método de clase)\n",
    "- Función para construir dataframe con promedios de los datos recopilados (debe tener un argumento para definir si se toma mensual, trimestral, semestral, anual o por un rango definido)"
   ]
  },
  {
   "cell_type": "code",
   "execution_count": 177,
   "metadata": {},
   "outputs": [],
   "source": [
    "class IlluMap():\n",
    "    \"\"\"\n",
    "    A class to capture and process all data of an EnergyPlus illumination map output\n",
    "    \n",
    "    This class allows to evaluate the illumination map results by reading the output file of EnergyPlus, saving\n",
    "    all data in a class for each illumination map output and returns average by month, year or a specified range\n",
    "    of date in a dataframe of pandas.\n",
    "    \n",
    "    \n",
    "    Arguments:\n",
    "      \n",
    "    Properties:\n",
    "      * thermal_zone\n",
    "      * name\n",
    "      * reference_points\n",
    "      * data\n",
    "    \"\"\"\n",
    "    __slots__ = (\"_thermal_zone\", \"_name\", \"_reference_points\", \"_data\")\n",
    "    \n",
    "    def __init__(self):\n",
    "        self._thermal_zone = \"Thermal Zone\"\n",
    "        self._name = \"Illumination Map\"\n",
    "        self._reference_points = (0., 0., 0.)\n",
    "        self._data = {}\n",
    "    \n",
    "    @property\n",
    "    def thermal_zone(self)->str:\n",
    "        \"\"\"Returns thermal zone of illumination map\"\"\"\n",
    "        return self._thermal_zone\n",
    "    \n",
    "    @thermal_zone.setter\n",
    "    def thermal_zone(self, tz:str):\n",
    "        \"\"\"Defines thermal_zone\"\"\"\n",
    "        self._thermal_zone = tz\n",
    "        \n",
    "    @property\n",
    "    def name(self) -> str:\n",
    "        \"\"\"Returns name of illumination map\"\"\"\n",
    "        return self._name\n",
    "    \n",
    "    @name.setter\n",
    "    def name(self, nm:str):\n",
    "        \"\"\"Defines illumination map name\"\"\"\n",
    "        self._name = nm\n",
    "        \n",
    "    @property\n",
    "    def reference_points(self)->float:\n",
    "        \"\"\"Returns reference points of illumination map\"\"\"\n",
    "        return self._reference_points\n",
    "    \n",
    "    @reference_points.setter\n",
    "    def reference_points(self, refpoints:float):\n",
    "        \"\"\"Defines reference points with origin of illumination map\"\"\"\n",
    "        self._reference_points = refpoints\n",
    "    \n",
    "    def add_data(self, data:pd.DataFrame, timestamp:datetime)->bool:\n",
    "        \"\"\"Adds a new data collection of illumination for a specified datetime\"\"\"\n",
    "        self._data[timestamp] = data\n",
    "        return True\n",
    "    \n",
    "    def data_at(self, timestamp:datetime)->pd.DataFrame:\n",
    "        \"\"\"Returns dataframe for a specified datetime\"\"\"\n",
    "        return self._data[timestamp]\n",
    "    \n",
    "    def get_datetimes(self) -> list:\n",
    "        \"\"\"Returns a list with all timestamp keys with illumination map data\"\"\"\n",
    "        return list(self._data.keys())"
   ]
  },
  {
   "cell_type": "markdown",
   "metadata": {},
   "source": [
    "## 6.2 - Función para leer los datos del archivo\n",
    "Acá pruebas para primera función de la clase. Parámetros a utilizar en la función o clase que se creará en el código para leer los archivos"
   ]
  },
  {
   "cell_type": "code",
   "execution_count": 30,
   "metadata": {},
   "outputs": [],
   "source": [
    "# Parámetros\n",
    "file_name = \"../data/eplusmap.csv\"\n",
    "date_format = \" %m/%d %H:%M\"\n",
    "year = 2000"
   ]
  },
  {
   "cell_type": "markdown",
   "metadata": {},
   "source": [
    "#### Función is_date()\n",
    "Si la línea tiene fecha lanza _True_ de lo contrario, lanza _False_"
   ]
  },
  {
   "cell_type": "code",
   "execution_count": 31,
   "metadata": {},
   "outputs": [],
   "source": [
    "def is_date(text:str, date_format=date_format):\n",
    "    try:\n",
    "        datetime.strptime(text, ' %m/%d %H:%M')\n",
    "        return True\n",
    "    except:\n",
    "        return False"
   ]
  },
  {
   "cell_type": "markdown",
   "metadata": {},
   "source": [
    "### Función get_info()\n",
    "Si la línea tiene los datos de información del illumination map los extrae como un tupple ordenado como nombre, tz y RefPts"
   ]
  },
  {
   "cell_type": "code",
   "execution_count": 32,
   "metadata": {},
   "outputs": [],
   "source": [
    "def get_info(text:str):\n",
    "    name = text.split(',')[1].split(':')[2].split(\" at \")[0]\n",
    "    tz = text.split(',')[1].split(':')[0]\n",
    "    RefPts = [float(x) for x in text.split(',')[2].split('(')[1].split(')')[0].split(':')]\n",
    "    return name, tz, RefPts "
   ]
  },
  {
   "cell_type": "markdown",
   "metadata": {},
   "source": [
    "Extraemos la información del archivo y lo pasamos a una lista llamada _illum_map_"
   ]
  },
  {
   "cell_type": "code",
   "execution_count": 33,
   "metadata": {},
   "outputs": [],
   "source": [
    "with open(file_name, \"r\") as file:\n",
    "    illum_map = file.read().splitlines()"
   ]
  },
  {
   "cell_type": "markdown",
   "metadata": {},
   "source": [
    "Ahora se creará una lista llamada _illumaps_ con todos diccionarios que tienen todos los mapas de iluminación del archivo.\n",
    "PENDIENTE:\n",
    "- Cambiar diccionario por clase IlluMap\n",
    "- Agrupar cada clase con todos los datos de un mismo illumination map (si el nombre es el mismo, entonces lo añade a la clase)"
   ]
  },
  {
   "cell_type": "code",
   "execution_count": 34,
   "metadata": {},
   "outputs": [],
   "source": [
    "illumaps = []\n",
    "initial = True # initial se usa para que en el primer bucle no guarde ningún diccionario.\n",
    "for i in range(len(illum_map)):\n",
    "    X_value = illum_map[i].split(',')[0] # Evaluamos el texto antes de la coma del archivo\n",
    "    if (X_value == \"Date/Time\"): # Si el valor comienza con \"Date/Time es de información y comienzo de un mapa\"\n",
    "        # Tomar línea de información y guardar datos contenidos utilizando función get_info\n",
    "        info = get_info(illum_map[i]) \n",
    "    elif is_date(X_value): #Si la línea tiene fecha, contiene la hora del mapa y los datos de coordenadas en Y\n",
    "        if not initial: # Si no es el primer bucle tomará los datos recopilados y los guardará como un diccionario\n",
    "            illudata.index = Y_array #Cambia el nombre de las hileras\n",
    "            illumap[\"Data\"] = illudata.transpose() # Transpone los datos del DataFrame para que Y sea las columnas y X las hileras\n",
    "            illumap[\"Data\"].index.names = [\"Coordinates\"]\n",
    "            illumaps.append(illumap) # Guarda el diccionario en illumap\n",
    "        else:\n",
    "            initial = False # No guarda el diccionario pero se pasa a False para que lo cree en el próximo paso por línea de información\n",
    "        # Preparar diccionario y DataFrame para guardar información extraida\n",
    "        illumap = {}\n",
    "        illudata = pd.DataFrame()\n",
    "        illumap[\"Timestamp\"] = datetime.strptime(X_value,' %m/%d %H:%M').replace(year=year)\n",
    "        illumap[\"Name\"] = info[0]\n",
    "        illumap[\"Thermal zone\"] = info[1]\n",
    "        illumap[\"Ref points\"] = info[2]\n",
    "        Y_array = [y[:-1] for y in illum_map[i].split(',')[1:]]\n",
    "    else: # Las otras líneas contienen la información de iluminación para cada coordenada en X la cual se guarda en el DataFrame\n",
    "        illudata[X_value[:-1]] = [float(x) for x in illum_map[i].split(',')[1:]]"
   ]
  },
  {
   "cell_type": "markdown",
   "metadata": {},
   "source": [
    "## 6.3 - Función promedio de dataframes\n",
    "Pruebas para función que llamará los dataframe de un periodo de tiempo de la clase IlluMap y generará un único dataframe con los promedios para cada coordenada"
   ]
  },
  {
   "cell_type": "code",
   "execution_count": 213,
   "metadata": {},
   "outputs": [],
   "source": [
    "combined_data = pd.concat([illumaps[100][\"Data\"], illumaps[101][\"Data\"], illumaps[102][\"Data\"]])"
   ]
  },
  {
   "cell_type": "code",
   "execution_count": 223,
   "metadata": {},
   "outputs": [],
   "source": [
    "mean_data = combined_data.groupby(\"Coordinates\").mean()"
   ]
  },
  {
   "cell_type": "code",
   "execution_count": null,
   "metadata": {},
   "outputs": [],
   "source": [
    "## 6.3 - Ploteo de resultados\n",
    "Contenido que va a tener el notebook final de este "
   ]
  },
  {
   "cell_type": "code",
   "execution_count": 224,
   "metadata": {},
   "outputs": [
    {
     "data": {
      "image/png": "[encoded data removed]",
      "text/plain": [
       "<Figure size 432x288 with 2 Axes>"
      ]
     },
     "metadata": {
      "needs_background": "light"
     },
     "output_type": "display_data"
    }
   ],
   "source": [
    "sbn.heatmap(mean_data, cmap=\"rocket\").invert_yaxis()"
   ]
  }
 ],
 "metadata": {
  "kernelspec": {
   "display_name": "Python 3",
   "language": "python",
   "name": "python3"
  },
  "language_info": {
   "codemirror_mode": {
    "name": "ipython",
    "version": 3
   },
   "file_extension": ".py",
   "mimetype": "text/x-python",
   "name": "python",
   "nbconvert_exporter": "python",
   "pygments_lexer": "ipython3",
   "version": "3.8.10"
  }
 },
 "nbformat": 4,
 "nbformat_minor": 4
}
