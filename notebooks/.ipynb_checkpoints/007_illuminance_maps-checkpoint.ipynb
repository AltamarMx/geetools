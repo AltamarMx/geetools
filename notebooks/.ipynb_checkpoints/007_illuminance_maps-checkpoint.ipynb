{
 "cells": [
  {
   "cell_type": "code",
   "execution_count": 1,
   "id": "d9b4ee27-087d-4320-9ebc-c4671dd20065",
   "metadata": {},
   "outputs": [],
   "source": [
    "pip install git+https://github.com/AltamarMx/iertools.git"
   ]
  },
  {
   "cell_type": "code",
   "execution_count": 2,
   "id": "b35e2d7d-a175-4c39-a056-bdcd60d67867",
   "metadata": {},
   "outputs": [],
   "source": [
    "from iertools.maps import IlluminanceDataVisualizer"
   ]
  },
  {
   "cell_type": "code",
   "execution_count": null,
   "id": "f2f6946f-636c-48f4-9787-0e6db3636a34",
   "metadata": {},
   "outputs": [],
   "source": [
    "f = '../data/Space_101_map.ill'\n",
    "\n",
    "visualizer = IlluminanceDataVisualizer(f)\n",
    "fig, ax = visualizer.visualize_udi(illum_min=400,num_levels=10)"
   ]
  },
  {
   "cell_type": "code",
   "execution_count": null,
   "id": "a3f0f59a-707c-4a75-b506-cb81da78f1f0",
   "metadata": {},
   "outputs": [],
   "source": [
    "visualizer.visualize_illuminance(\"2024-04-10 09:00:00\")"
   ]
  },
  {
   "cell_type": "code",
   "execution_count": null,
   "id": "a39322bb-d4ad-43a2-acd7-2b2de6ac29d1",
   "metadata": {},
   "outputs": [],
   "source": []
  }
 ],
 "metadata": {
  "kernelspec": {
   "display_name": "Python 3 (ipykernel)",
   "language": "python",
   "name": "python3"
  },
  "language_info": {
   "codemirror_mode": {
    "name": "ipython",
    "version": 3
   },
   "file_extension": ".py",
   "mimetype": "text/x-python",
   "name": "python",
   "nbconvert_exporter": "python",
   "pygments_lexer": "ipython3",
   "version": "3.13.0"
  }
 },
 "nbformat": 4,
 "nbformat_minor": 5
}
