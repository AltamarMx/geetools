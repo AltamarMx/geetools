{
 "cells": [
  {
   "cell_type": "code",
   "execution_count": 1,
   "metadata": {},
   "outputs": [],
   "source": [
    "# pip install git+https://github.com/AltamarMx/iertools.git"
   ]
  },
  {
   "cell_type": "code",
   "execution_count": 3,
   "metadata": {},
   "outputs": [],
   "source": [
    "import pandas as pd\n",
    "import matplotlib.pyplot as plt\n",
    "from iertools.read import read_sql\n"
   ]
  },
  {
   "cell_type": "code",
   "execution_count": 11,
   "metadata": {},
   "outputs": [],
   "source": [
    "# df = read_sql(\"../data/eplusout.sql\")\n",
    "df = read_sql(\"../data/eplusout.sql\",read='all').data\n",
    "\n",
    "# df = read_eplusql(\"../data/eplusoutTo.sql\",read='construction') # reads only construction systems\n",
    "# df = read_eplusql(\"../data/eplusoutTo.sql\",read='data',rename_ZMAT=True) # reads only data"
   ]
  },
  {
   "cell_type": "code",
   "execution_count": 12,
   "metadata": {},
   "outputs": [
    {
     "data": {
      "text/plain": [
       "Index(['Environment:Site Outdoor Air Drybulb Temperature (C)',\n",
       "       'N1AU401:Zone Air Relative Humidity (%)',\n",
       "       'N1AU401:Zone Air Temperature (C)',\n",
       "       'N1AU401:Zone Mean Air Temperature (C)',\n",
       "       'N1AU402:Zone Air Relative Humidity (%)',\n",
       "       'N1AU402:Zone Air Temperature (C)',\n",
       "       'N1AU402:Zone Mean Air Temperature (C)',\n",
       "       'N1AU403:Zone Air Relative Humidity (%)',\n",
       "       'N1AU403:Zone Air Temperature (C)',\n",
       "       'N1AU403:Zone Mean Air Temperature (C)',\n",
       "       'N1AU404:Zone Air Relative Humidity (%)',\n",
       "       'N1AU404:Zone Air Temperature (C)',\n",
       "       'N1AU404:Zone Mean Air Temperature (C)',\n",
       "       'N2AU101:Zone Air Relative Humidity (%)',\n",
       "       'N2AU101:Zone Air Temperature (C)',\n",
       "       'N2AU101:Zone Mean Air Temperature (C)',\n",
       "       'N2AU102:Zone Air Relative Humidity (%)',\n",
       "       'N2AU102:Zone Air Temperature (C)',\n",
       "       'N2AU102:Zone Mean Air Temperature (C)',\n",
       "       'N2AU103:Zone Air Relative Humidity (%)',\n",
       "       'N2AU103:Zone Air Temperature (C)',\n",
       "       'N2AU103:Zone Mean Air Temperature (C)',\n",
       "       'N2AU201:Zone Air Relative Humidity (%)',\n",
       "       'N2AU201:Zone Air Temperature (C)',\n",
       "       'N2AU201:Zone Mean Air Temperature (C)',\n",
       "       'N2AU202:Zone Air Relative Humidity (%)',\n",
       "       'N2AU202:Zone Air Temperature (C)',\n",
       "       'N2AU202:Zone Mean Air Temperature (C)',\n",
       "       'N2AU203:Zone Air Relative Humidity (%)',\n",
       "       'N2AU203:Zone Air Temperature (C)',\n",
       "       'N2AU203:Zone Mean Air Temperature (C)',\n",
       "       'N2PASILLO:Zone Air Relative Humidity (%)',\n",
       "       'N2PASILLO:Zone Air Temperature (C)',\n",
       "       'N2PASILLO:Zone Mean Air Temperature (C)',\n",
       "       'N2STR:Zone Air Relative Humidity (%)',\n",
       "       'N2STR:Zone Air Temperature (C)', 'N2STR:Zone Mean Air Temperature (C)',\n",
       "       'PBADM:Zone Air Relative Humidity (%)',\n",
       "       'PBADM:Zone Air Temperature (C)', 'PBADM:Zone Mean Air Temperature (C)',\n",
       "       'PBATENCIONCOFI:Zone Air Relative Humidity (%)',\n",
       "       'PBATENCIONCOFI:Zone Air Temperature (C)',\n",
       "       'PBATENCIONCOFI:Zone Mean Air Temperature (C)',\n",
       "       'PBCOORCOFI:Zone Air Relative Humidity (%)',\n",
       "       'PBCOORCOFI:Zone Air Temperature (C)',\n",
       "       'PBCOORCOFI:Zone Mean Air Temperature (C)',\n",
       "       'PBCOORDINACION:Zone Air Relative Humidity (%)',\n",
       "       'PBCOORDINACION:Zone Air Temperature (C)',\n",
       "       'PBCOORDINACION:Zone Mean Air Temperature (C)',\n",
       "       'PBDUCTOCOFI:Zone Air Relative Humidity (%)',\n",
       "       'PBDUCTOCOFI:Zone Air Temperature (C)',\n",
       "       'PBDUCTOCOFI:Zone Mean Air Temperature (C)',\n",
       "       'PBDUCTOSALAS:Zone Air Relative Humidity (%)',\n",
       "       'PBDUCTOSALAS:Zone Air Temperature (C)',\n",
       "       'PBDUCTOSALAS:Zone Mean Air Temperature (C)',\n",
       "       'PBDUCTOSCOM:Zone Air Relative Humidity (%)',\n",
       "       'PBDUCTOSCOM:Zone Air Temperature (C)',\n",
       "       'PBDUCTOSCOM:Zone Mean Air Temperature (C)',\n",
       "       'PBIMP:Zone Air Relative Humidity (%)',\n",
       "       'PBIMP:Zone Air Temperature (C)', 'PBIMP:Zone Mean Air Temperature (C)',\n",
       "       'PBSCOM:Zone Air Relative Humidity (%)',\n",
       "       'PBSCOM:Zone Air Temperature (C)',\n",
       "       'PBSCOM:Zone Mean Air Temperature (C)',\n",
       "       'PBSJUNTAS:Zone Air Relative Humidity (%)',\n",
       "       'PBSJUNTAS:Zone Air Temperature (C)',\n",
       "       'PBSJUNTAS:Zone Mean Air Temperature (C)',\n",
       "       'PBSMAESTROS:Zone Air Relative Humidity (%)',\n",
       "       'PBSMAESTROS:Zone Air Temperature (C)',\n",
       "       'PBSMAESTROS:Zone Mean Air Temperature (C)',\n",
       "       'PBSTR:Zone Air Relative Humidity (%)',\n",
       "       'PBSTR:Zone Air Temperature (C)', 'PBSTR:Zone Mean Air Temperature (C)',\n",
       "       'PBVESTIBULO:Zone Air Relative Humidity (%)',\n",
       "       'PBVESTIBULO:Zone Air Temperature (C)',\n",
       "       'PBVESTIBULO:Zone Mean Air Temperature (C)'],\n",
       "      dtype='object', name='variable_name')"
      ]
     },
     "execution_count": 12,
     "metadata": {},
     "output_type": "execute_result"
    }
   ],
   "source": [
    "df.columns"
   ]
  },
  {
   "cell_type": "code",
   "execution_count": null,
   "metadata": {},
   "outputs": [],
   "source": [
    "json_rvi = read_sql.json_from_rvi(\"../data/eplusout.rvi\")#by default reads everything and rename Ti,To\n",
    "my_sql = read_sql(\"../data/eplusout.sql\", cols_json=json_rvi)\n",
    "df = my_sql.data\n",
    "# df = read_eplusql(\"../data/clase06.sql\",read='all')\n",
    "\n",
    "# df = read_eplusql(\"../data/eplusoutTo.sql\",read='construction') # reads only construction systems\n",
    "# df = read_eplusql(\"../data/eplusoutTo.sql\",read='data',rename_ZMAT=True) # reads only data"
   ]
  },
  {
   "cell_type": "code",
   "execution_count": null,
   "metadata": {},
   "outputs": [],
   "source": [
    "df.columns"
   ]
  },
  {
   "cell_type": "code",
   "execution_count": null,
   "metadata": {},
   "outputs": [],
   "source": [
    "my_sql.vars_numbered"
   ]
  },
  {
   "cell_type": "code",
   "execution_count": null,
   "metadata": {
    "scrolled": true
   },
   "outputs": [],
   "source": [
    "my_sql.rename_cols([8],[\"Tii_N1AU403\"])\n",
    "my_sql.vars_numbered"
   ]
  },
  {
   "cell_type": "code",
   "execution_count": null,
   "metadata": {
    "scrolled": true
   },
   "outputs": [],
   "source": [
    "my_sql.vars"
   ]
  },
  {
   "cell_type": "code",
   "execution_count": null,
   "metadata": {},
   "outputs": [],
   "source": [
    "cs = my_sql.construction_systems\n",
    "cs"
   ]
  },
  {
   "cell_type": "code",
   "execution_count": null,
   "metadata": {
    "scrolled": false
   },
   "outputs": [],
   "source": [
    "my_sql.get_construction(cs)"
   ]
  },
  {
   "cell_type": "code",
   "execution_count": null,
   "metadata": {
    "scrolled": false
   },
   "outputs": [],
   "source": [
    "my_sql.get_construction(['PS-05']) # items should be passed as lists"
   ]
  },
  {
   "cell_type": "code",
   "execution_count": null,
   "metadata": {},
   "outputs": [],
   "source": [
    "variables = ['To',\"Ti\"]\n",
    "caso1 = my_sql.get_data(variables)\n",
    "caso1.plot(subplots=True,figsize=(12,12));"
   ]
  },
  {
   "cell_type": "code",
   "execution_count": null,
   "metadata": {},
   "outputs": [],
   "source": []
  }
 ],
 "metadata": {
  "kernelspec": {
   "display_name": "Python 3",
   "language": "python",
   "name": "python3"
  },
  "language_info": {
   "codemirror_mode": {
    "name": "ipython",
    "version": 3
   },
   "file_extension": ".py",
   "mimetype": "text/x-python",
   "name": "python",
   "nbconvert_exporter": "python",
   "pygments_lexer": "ipython3",
   "version": "3.8.5"
  }
 },
 "nbformat": 4,
 "nbformat_minor": 4
}
