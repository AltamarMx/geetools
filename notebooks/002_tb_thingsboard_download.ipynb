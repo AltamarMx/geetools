{
 "cells": [
  {
   "cell_type": "code",
   "execution_count": 1,
   "metadata": {},
   "outputs": [
    {
     "ename": "ModuleNotFoundError",
     "evalue": "No module named 'geetools.tb'",
     "output_type": "error",
     "traceback": [
      "\u001b[0;31m---------------------------------------------------------------------------\u001b[0m",
      "\u001b[0;31mModuleNotFoundError\u001b[0m                       Traceback (most recent call last)",
      "\u001b[0;32m<ipython-input-1-ca9a8ab818c1>\u001b[0m in \u001b[0;36m<module>\u001b[0;34m\u001b[0m\n\u001b[0;32m----> 1\u001b[0;31m \u001b[0;32mfrom\u001b[0m \u001b[0mgeetools\u001b[0m\u001b[0;34m.\u001b[0m\u001b[0mtb\u001b[0m \u001b[0;32mimport\u001b[0m \u001b[0;34m*\u001b[0m\u001b[0;34m\u001b[0m\u001b[0;34m\u001b[0m\u001b[0m\n\u001b[0m",
      "\u001b[0;31mModuleNotFoundError\u001b[0m: No module named 'geetools.tb'"
     ]
    }
   ],
   "source": [
    "from geetools.tb import *"
   ]
  },
  {
   "cell_type": "code",
   "execution_count": 5,
   "metadata": {},
   "outputs": [
    {
     "name": "stdout",
     "output_type": "stream",
     "text": [
      "\u001b[33mWARNING: Ignoring invalid distribution -hapely (/Users/gbv/opt/anaconda3/lib/python3.8/site-packages)\u001b[0m\n",
      "\u001b[33mWARNING: Ignoring invalid distribution -hapely (/Users/gbv/opt/anaconda3/lib/python3.8/site-packages)\u001b[0m\n",
      "Collecting git+https://github.com/AltamarMx/geetools.git\n",
      "  Cloning https://github.com/AltamarMx/geetools.git to /private/var/folders/5r/jn_g7h3n0pv3v9fbjgr05h8w0000gn/T/pip-req-build-loh3d1gl\n",
      "  Running command git clone --filter=blob:none -q https://github.com/AltamarMx/geetools.git /private/var/folders/5r/jn_g7h3n0pv3v9fbjgr05h8w0000gn/T/pip-req-build-loh3d1gl\n",
      "  Resolved https://github.com/AltamarMx/geetools.git to commit 95299f609078ca1f5bbdd5296d221ab326afd828\n",
      "  Preparing metadata (setup.py) ... \u001b[?25lerror\n",
      "\u001b[31m  ERROR: Command errored out with exit status 1:\n",
      "   command: /Users/gbv/opt/anaconda3/bin/python -c 'import io, os, sys, setuptools, tokenize; sys.argv[0] = '\"'\"'/private/var/folders/5r/jn_g7h3n0pv3v9fbjgr05h8w0000gn/T/pip-req-build-loh3d1gl/setup.py'\"'\"'; __file__='\"'\"'/private/var/folders/5r/jn_g7h3n0pv3v9fbjgr05h8w0000gn/T/pip-req-build-loh3d1gl/setup.py'\"'\"';f = getattr(tokenize, '\"'\"'open'\"'\"', open)(__file__) if os.path.exists(__file__) else io.StringIO('\"'\"'from setuptools import setup; setup()'\"'\"');code = f.read().replace('\"'\"'\\r\\n'\"'\"', '\"'\"'\\n'\"'\"');f.close();exec(compile(code, __file__, '\"'\"'exec'\"'\"'))' egg_info --egg-base /private/var/folders/5r/jn_g7h3n0pv3v9fbjgr05h8w0000gn/T/pip-pip-egg-info-u3424flh\n",
      "       cwd: /private/var/folders/5r/jn_g7h3n0pv3v9fbjgr05h8w0000gn/T/pip-req-build-loh3d1gl/\n",
      "  Complete output (6 lines):\n",
      "  Traceback (most recent call last):\n",
      "    File \"<string>\", line 1, in <module>\n",
      "    File \"/private/var/folders/5r/jn_g7h3n0pv3v9fbjgr05h8w0000gn/T/pip-req-build-loh3d1gl/setup.py\", line 20\n",
      "      install_requires=['requests','pandas','numpy’,’dateutil’,’time’,’json’,’datetime’],\n",
      "                                                                                         ^\n",
      "  SyntaxError: EOL while scanning string literal\n",
      "  ----------------------------------------\u001b[0m\n",
      "\u001b[33mWARNING: Discarding git+https://github.com/AltamarMx/geetools.git. Command errored out with exit status 1: python setup.py egg_info Check the logs for full command output.\u001b[0m\n",
      "\u001b[31mERROR: Command errored out with exit status 1: python setup.py egg_info Check the logs for full command output.\u001b[0m\n",
      "\u001b[33mWARNING: Ignoring invalid distribution -hapely (/Users/gbv/opt/anaconda3/lib/python3.8/site-packages)\u001b[0m\n",
      "\u001b[33mWARNING: Ignoring invalid distribution -hapely (/Users/gbv/opt/anaconda3/lib/python3.8/site-packages)\u001b[0m\n",
      "\u001b[33mWARNING: Ignoring invalid distribution -hapely (/Users/gbv/opt/anaconda3/lib/python3.8/site-packages)\u001b[0m\n",
      "\u001b[33mWARNING: You are using pip version 21.3.1; however, version 22.0.4 is available.\n",
      "You should consider upgrading via the '/Users/gbv/opt/anaconda3/bin/python -m pip install --upgrade pip' command.\u001b[0m\n",
      "\u001b[?25hNote: you may need to restart the kernel to use updated packages.\n"
     ]
    }
   ],
   "source": [
    "pip install git+https://github.com/AltamarMx/geetools.git"
   ]
  }
 ],
 "metadata": {
  "kernelspec": {
   "display_name": "Python 3",
   "language": "python",
   "name": "python3"
  },
  "language_info": {
   "codemirror_mode": {
    "name": "ipython",
    "version": 3
   },
   "file_extension": ".py",
   "mimetype": "text/x-python",
   "name": "python",
   "nbconvert_exporter": "python",
   "pygments_lexer": "ipython3",
   "version": "3.8.5"
  }
 },
 "nbformat": 4,
 "nbformat_minor": 4
}
