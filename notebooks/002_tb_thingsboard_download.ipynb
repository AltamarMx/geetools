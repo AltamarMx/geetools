{
 "cells": [
  {
   "cell_type": "code",
   "execution_count": null,
   "metadata": {},
   "outputs": [],
   "source": [
    "from geetools.tb import *"
   ]
  },
  {
   "cell_type": "code",
   "execution_count": 1,
   "metadata": {},
   "outputs": [
    {
     "name": "stdout",
     "output_type": "stream",
     "text": [
      "\u001b[33mWARNING: Ignoring invalid distribution -hapely (/Users/gbv/opt/anaconda3/lib/python3.8/site-packages)\u001b[0m\n",
      "\u001b[33mWARNING: Ignoring invalid distribution -hapely (/Users/gbv/opt/anaconda3/lib/python3.8/site-packages)\u001b[0m\n",
      "Collecting git+https://github.com/AltamarMx/geetools.git\n",
      "  Cloning https://github.com/AltamarMx/geetools.git to /private/var/folders/5r/jn_g7h3n0pv3v9fbjgr05h8w0000gn/T/pip-req-build-d1dn3baq\n",
      "  Running command git clone --filter=blob:none -q https://github.com/AltamarMx/geetools.git /private/var/folders/5r/jn_g7h3n0pv3v9fbjgr05h8w0000gn/T/pip-req-build-d1dn3baq\n",
      "  Resolved https://github.com/AltamarMx/geetools.git to commit 73888416b5c5645b5d4626fa6795d20795d10eea\n",
      "  Preparing metadata (setup.py) ... \u001b[?25ldone\n",
      "\u001b[?25hRequirement already satisfied: requests in /Users/gbv/opt/anaconda3/lib/python3.8/site-packages (from geetools==0.0.9) (2.24.0)\n",
      "Requirement already satisfied: pandas in /Users/gbv/opt/anaconda3/lib/python3.8/site-packages (from geetools==0.0.9) (1.4.2)\n",
      "Requirement already satisfied: numpy in /Users/gbv/opt/anaconda3/lib/python3.8/site-packages (from geetools==0.0.9) (1.21.2)\n",
      "\u001b[31mERROR: Could not find a version that satisfies the requirement time (from geetools) (from versions: none)\u001b[0m\n",
      "\u001b[31mERROR: No matching distribution found for time\u001b[0m\n",
      "\u001b[33mWARNING: Ignoring invalid distribution -hapely (/Users/gbv/opt/anaconda3/lib/python3.8/site-packages)\u001b[0m\n",
      "\u001b[33mWARNING: Ignoring invalid distribution -hapely (/Users/gbv/opt/anaconda3/lib/python3.8/site-packages)\u001b[0m\n",
      "\u001b[33mWARNING: Ignoring invalid distribution -hapely (/Users/gbv/opt/anaconda3/lib/python3.8/site-packages)\u001b[0m\n",
      "\u001b[33mWARNING: You are using pip version 21.3.1; however, version 22.0.4 is available.\n",
      "You should consider upgrading via the '/Users/gbv/opt/anaconda3/bin/python -m pip install --upgrade pip' command.\u001b[0m\n",
      "Note: you may need to restart the kernel to use updated packages.\n"
     ]
    }
   ],
   "source": [
    "pip install git+https://github.com/AltamarMx/geetools.git"
   ]
  }
 ],
 "metadata": {
  "kernelspec": {
   "display_name": "Python 3",
   "language": "python",
   "name": "python3"
  },
  "language_info": {
   "codemirror_mode": {
    "name": "ipython",
    "version": 3
   },
   "file_extension": ".py",
   "mimetype": "text/x-python",
   "name": "python",
   "nbconvert_exporter": "python",
   "pygments_lexer": "ipython3",
   "version": "3.8.5"
  }
 },
 "nbformat": 4,
 "nbformat_minor": 4
}
